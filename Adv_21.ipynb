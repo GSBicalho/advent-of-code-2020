{
 "cells": [
  {
   "cell_type": "code",
   "execution_count": 1,
   "metadata": {},
   "outputs": [],
   "source": [
    "from pprint import pprint\n",
    "import itertools\n",
    "\n",
    "input_file = \"inputs/aoc_input_21.txt\""
   ]
  },
  {
   "cell_type": "code",
   "execution_count": 2,
   "metadata": {},
   "outputs": [],
   "source": [
    "if True:\n",
    "    with open(input_file) as f:\n",
    "        content = f.readlines()\n",
    "    content = [x.strip() for x in content]\n",
    "else:\n",
    "    content = '''\n",
    "mxmxvkd kfcds sqjhc nhms (contains dairy, fish)\n",
    "trh fvjkl sbzzf mxmxvkd (contains dairy)\n",
    "sqjhc fvjkl (contains soy)\n",
    "sqjhc mxmxvkd sbzzf (contains fish)\n",
    "'''.strip().split('\\n')"
   ]
  },
  {
   "cell_type": "code",
   "execution_count": 3,
   "metadata": {},
   "outputs": [],
   "source": [
    "allergens_map = {}\n",
    "ingredients_map = {}\n",
    "ingredients_count = {}\n",
    "for line in content:\n",
    "    ingredients, allergens = line.split('(contains ')\n",
    "    ingredients = ingredients.strip().replace(',', ' ').split()\n",
    "    allergens = allergens.replace(')', '').replace(',', ' ').strip().split()\n",
    "    \n",
    "    for allergen in allergens:\n",
    "        if allergen in allergens_map:\n",
    "            allergens_map[allergen] = allergens_map[allergen] + [(set(ingredients))]\n",
    "        else:\n",
    "            allergens_map[allergen] = [set(ingredients)]\n",
    "            \n",
    "    for ingredient in ingredients:\n",
    "        if ingredient in ingredients_map:\n",
    "            ingredients_map[ingredient] = ingredients_map[ingredient] + [set(allergens)]\n",
    "            ingredients_count[ingredient] += 1\n",
    "        else:\n",
    "            ingredients_map[ingredient] = [set(allergens)]\n",
    "            ingredients_count[ingredient] = 1"
   ]
  },
  {
   "cell_type": "code",
   "execution_count": 4,
   "metadata": {},
   "outputs": [],
   "source": [
    "allergens_found = set()\n",
    "allergens_dictionary = {}\n",
    "\n",
    "while len(allergens_found) != len(allergens_map):\n",
    "    for allergen, possibilities in allergens_map.items():\n",
    "        if allergen not in allergens_found:\n",
    "            possible_ingredients = possibilities[0].intersection(*possibilities[1:]) - allergens_found\n",
    "            if len(possible_ingredients) == 1:\n",
    "                ingredient_found = possible_ingredients.pop()\n",
    "                allergens_found.add(ingredient_found)\n",
    "                allergens_dictionary[allergen] = ingredient_found"
   ]
  },
  {
   "cell_type": "code",
   "execution_count": 5,
   "metadata": {},
   "outputs": [
    {
     "data": {
      "text/plain": [
       "{'dairy': 'rhvbn',\n",
       " 'nuts': 'fvk',\n",
       " 'wheat': 'zrb',\n",
       " 'fish': 'kjf',\n",
       " 'shellfish': 'jgtb',\n",
       " 'sesame': 'lbmt',\n",
       " 'eggs': 'mmcpg',\n",
       " 'soy': 'hcbdb'}"
      ]
     },
     "execution_count": 5,
     "metadata": {},
     "output_type": "execute_result"
    }
   ],
   "source": [
    "allergens_dictionary"
   ]
  },
  {
   "cell_type": "code",
   "execution_count": 6,
   "metadata": {},
   "outputs": [],
   "source": [
    "non_allergic_ingredients = set(ingredients_map.keys()) - set(allergens_dictionary.values())"
   ]
  },
  {
   "cell_type": "code",
   "execution_count": 7,
   "metadata": {},
   "outputs": [
    {
     "data": {
      "text/plain": [
       "2517"
      ]
     },
     "execution_count": 7,
     "metadata": {},
     "output_type": "execute_result"
    }
   ],
   "source": [
    "sum([ingredients_count[x] for x in non_allergic_ingredients])"
   ]
  },
  {
   "cell_type": "code",
   "execution_count": 8,
   "metadata": {},
   "outputs": [
    {
     "data": {
      "text/plain": [
       "'rhvbn,mmcpg,kjf,fvk,lbmt,jgtb,hcbdb,zrb'"
      ]
     },
     "execution_count": 8,
     "metadata": {},
     "output_type": "execute_result"
    }
   ],
   "source": [
    "','.join([x[1] for x in sorted(allergens_dictionary.items(), key= lambda x: x[0])])"
   ]
  },
  {
   "cell_type": "code",
   "execution_count": null,
   "metadata": {},
   "outputs": [],
   "source": []
  }
 ],
 "metadata": {
  "kernelspec": {
   "display_name": "Python 3",
   "language": "python",
   "name": "python3"
  },
  "language_info": {
   "codemirror_mode": {
    "name": "ipython",
    "version": 3
   },
   "file_extension": ".py",
   "mimetype": "text/x-python",
   "name": "python",
   "nbconvert_exporter": "python",
   "pygments_lexer": "ipython3",
   "version": "3.8.5"
  }
 },
 "nbformat": 4,
 "nbformat_minor": 4
}
