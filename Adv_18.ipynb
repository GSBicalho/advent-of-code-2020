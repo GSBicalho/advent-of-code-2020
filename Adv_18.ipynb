{
 "cells": [
  {
   "cell_type": "code",
   "execution_count": 1,
   "metadata": {},
   "outputs": [],
   "source": [
    "from pprint import pprint\n",
    "import itertools\n",
    "\n",
    "input_file = \"inputs/aoc_input_18.txt\""
   ]
  },
  {
   "cell_type": "code",
   "execution_count": 19,
   "metadata": {},
   "outputs": [],
   "source": [
    "if True:\n",
    "    with open(input_file) as f:\n",
    "        content = f.readlines()\n",
    "    content = [x.strip() for x in content]\n",
    "else:\n",
    "    content = '''\n",
    "1 + 2 * 3 + 4 * 5 + 6\n",
    "1 + (2 * 3) + (4 * (5 + 6))\n",
    "2 * 3 + (4 * 5)\n",
    "5 + (8 * 3 + 9 + 3 * 4 * 3)\n",
    "5 * 9 * (7 * 3 * 3 + 9 * 3 + (8 + 6 * 4))\n",
    "((2 + 4 * 9) * (6 + 9 * 8 + 6) + 6) + 2 + 4 * 2\n",
    "'''.strip().split('\\n')\n",
    "# content = [x.replace('(', '( ').replace(')', ' )') for x in content]"
   ]
  },
  {
   "cell_type": "code",
   "execution_count": 29,
   "metadata": {},
   "outputs": [],
   "source": [
    "OPEN_P = '('\n",
    "CLOSE_P = ')'\n",
    "PLUS = '+'\n",
    "TIMES = '*'\n",
    "\n",
    "def process_no_parenthesis_ex1(chunk):\n",
    "    split_chunk = chunk.strip().split()\n",
    "    result = int(split_chunk[0])\n",
    "    for i in range(1, len(split_chunk), 2):\n",
    "        if split_chunk[i] == PLUS:\n",
    "            result = result + int(split_chunk[i+1])\n",
    "        elif split_chunk[i] == TIMES:\n",
    "            result = result * int(split_chunk[i+1])\n",
    "        else:\n",
    "            print('Parsing error!')\n",
    "    return result\n",
    "\n",
    "def process_no_parenthesis_ex2(chunk):\n",
    "    split_chunk = chunk.split()\n",
    "    \n",
    "    while PLUS in split_chunk:\n",
    "        plus_location = split_chunk.index(PLUS)\n",
    "        local_result = int(split_chunk[plus_location - 1]) + int(split_chunk[plus_location + 1])\n",
    "        split_chunk = split_chunk[:plus_location - 1] + [str(local_result)] + split_chunk[plus_location + 2:]\n",
    "        \n",
    "    while TIMES in split_chunk:\n",
    "        plus_location = split_chunk.index(TIMES)\n",
    "        local_result = int(split_chunk[plus_location - 1]) * int(split_chunk[plus_location + 1])\n",
    "        split_chunk = split_chunk[:plus_location - 1] + [str(local_result)] + split_chunk[plus_location + 2:]\n",
    "        \n",
    "    return int(split_chunk[0])\n",
    "\n",
    "def process_line(line, no_parenthesis_processing_function):\n",
    "    original_line = line\n",
    "    while OPEN_P in line:\n",
    "        last_open_parenthesis_index = line.rfind(OPEN_P)\n",
    "        parenthesis_close_index = line.index(CLOSE_P, last_open_parenthesis_index)\n",
    "        \n",
    "        clean_chunk = line[last_open_parenthesis_index+1:parenthesis_close_index]\n",
    "        chunk_result = no_parenthesis_processing_function(clean_chunk)\n",
    "        \n",
    "        line = line[:last_open_parenthesis_index] + str(chunk_result) + line[parenthesis_close_index+1:]\n",
    "    \n",
    "    result = no_parenthesis_processing_function(line)\n",
    "    return result"
   ]
  },
  {
   "cell_type": "code",
   "execution_count": 30,
   "metadata": {},
   "outputs": [
    {
     "data": {
      "text/plain": [
       "11297104473091"
      ]
     },
     "execution_count": 30,
     "metadata": {},
     "output_type": "execute_result"
    }
   ],
   "source": [
    "sum(process_line(x, process_no_parenthesis_ex1) for x in content)"
   ]
  },
  {
   "cell_type": "code",
   "execution_count": 31,
   "metadata": {},
   "outputs": [
    {
     "data": {
      "text/plain": [
       "185348874183674"
      ]
     },
     "execution_count": 31,
     "metadata": {},
     "output_type": "execute_result"
    }
   ],
   "source": [
    "sum(process_line(x, process_no_parenthesis_ex2) for x in content)"
   ]
  },
  {
   "cell_type": "code",
   "execution_count": null,
   "metadata": {},
   "outputs": [],
   "source": []
  }
 ],
 "metadata": {
  "kernelspec": {
   "display_name": "Python 3",
   "language": "python",
   "name": "python3"
  },
  "language_info": {
   "codemirror_mode": {
    "name": "ipython",
    "version": 3
   },
   "file_extension": ".py",
   "mimetype": "text/x-python",
   "name": "python",
   "nbconvert_exporter": "python",
   "pygments_lexer": "ipython3",
   "version": "3.8.5"
  }
 },
 "nbformat": 4,
 "nbformat_minor": 4
}
