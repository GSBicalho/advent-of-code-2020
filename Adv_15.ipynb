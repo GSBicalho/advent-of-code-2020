{
 "cells": [
  {
   "cell_type": "code",
   "execution_count": 62,
   "metadata": {},
   "outputs": [],
   "source": [
    "starting_numbers = [2,1,10,11,0,6]"
   ]
  },
  {
   "cell_type": "code",
   "execution_count": 66,
   "metadata": {},
   "outputs": [],
   "source": [
    "# If that was the first time the number has been spoken, the current player says 0.\n",
    "# Otherwise, the number had been spoken before; the current player announces how many turns apart the number is from when it was previously spoken.\n",
    "\n",
    "def play_memory_game(starting_number, max_turns_played, fallback_number=0):\n",
    "    last_time_mentioned = {n:i for i, n in enumerate(starting_numbers[:-1])}\n",
    "    current_turn = len(starting_numbers)-1\n",
    "    last_number = starting_numbers[-1]\n",
    "\n",
    "    for i in range(current_turn, max_turns_played-1):\n",
    "        if last_number in last_time_mentioned:\n",
    "            number_said = current_turn - last_time_mentioned[last_number]\n",
    "        else:\n",
    "            number_said = fallback_number\n",
    "\n",
    "        last_time_mentioned[last_number] = current_turn\n",
    "        last_number = number_said\n",
    "        current_turn += 1\n",
    "\n",
    "    return last_number"
   ]
  },
  {
   "cell_type": "code",
   "execution_count": 67,
   "metadata": {},
   "outputs": [
    {
     "data": {
      "text/plain": [
       "232"
      ]
     },
     "execution_count": 67,
     "metadata": {},
     "output_type": "execute_result"
    }
   ],
   "source": [
    "play_memory_game(starting_numbers,2020)"
   ]
  },
  {
   "cell_type": "code",
   "execution_count": 68,
   "metadata": {},
   "outputs": [
    {
     "data": {
      "text/plain": [
       "18929178"
      ]
     },
     "execution_count": 68,
     "metadata": {},
     "output_type": "execute_result"
    }
   ],
   "source": [
    "play_memory_game(starting_numbers,30000000)"
   ]
  },
  {
   "cell_type": "code",
   "execution_count": null,
   "metadata": {},
   "outputs": [],
   "source": []
  }
 ],
 "metadata": {
  "kernelspec": {
   "display_name": "Python 3",
   "language": "python",
   "name": "python3"
  },
  "language_info": {
   "codemirror_mode": {
    "name": "ipython",
    "version": 3
   },
   "file_extension": ".py",
   "mimetype": "text/x-python",
   "name": "python",
   "nbconvert_exporter": "python",
   "pygments_lexer": "ipython3",
   "version": "3.8.5"
  }
 },
 "nbformat": 4,
 "nbformat_minor": 4
}
