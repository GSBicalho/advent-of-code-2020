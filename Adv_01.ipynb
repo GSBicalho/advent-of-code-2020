{
 "cells": [
  {
   "cell_type": "code",
   "execution_count": 1,
   "metadata": {},
   "outputs": [],
   "source": [
    "input_file = \"inputs/aoc_input_1.txt\"\n",
    "desired_sum = 2020"
   ]
  },
  {
   "cell_type": "code",
   "execution_count": 2,
   "metadata": {},
   "outputs": [],
   "source": [
    "with open(input_file) as f:\n",
    "    content = f.readlines()\n",
    "# you may also want to remove whitespace characters like `\\n` at the end of each line\n",
    "content_sorted = sorted([int(x.strip()) for x in content])\n",
    "content_len = len(content)\n",
    "content = list(reversed(content_sorted))"
   ]
  },
  {
   "cell_type": "code",
   "execution_count": 3,
   "metadata": {},
   "outputs": [],
   "source": [
    "def ex1(content):\n",
    "    for i in range(len(content)):\n",
    "        for j in range(i + 1, len(content)):\n",
    "            s = content[i] + content[j]\n",
    "            if(s == desired_sum):\n",
    "                return content[i] * content[j]\n",
    "            if s < desired_sum:\n",
    "                break\n",
    "\n",
    "def ex2(content):\n",
    "    ops = 0\n",
    "    for i in range(len(content)):\n",
    "        for j in range(i + 1, len(content)):\n",
    "            for k in range(j + 1, len(content)):\n",
    "                ops += 1\n",
    "                s = content[i] + content[j] + content[k] \n",
    "                if(s == 2020):\n",
    "                    return content[i] * content[j] * content[k]\n",
    "                if s < 2020:\n",
    "                    break"
   ]
  },
  {
   "cell_type": "code",
   "execution_count": 4,
   "metadata": {},
   "outputs": [
    {
     "name": "stdout",
     "output_type": "stream",
     "text": [
      "357504\n"
     ]
    }
   ],
   "source": [
    "print(ex1(content))"
   ]
  },
  {
   "cell_type": "code",
   "execution_count": 5,
   "metadata": {},
   "outputs": [
    {
     "name": "stdout",
     "output_type": "stream",
     "text": [
      "12747392\n"
     ]
    }
   ],
   "source": [
    "print(ex2(content))"
   ]
  },
  {
   "cell_type": "code",
   "execution_count": null,
   "metadata": {},
   "outputs": [],
   "source": []
  }
 ],
 "metadata": {
  "kernelspec": {
   "display_name": "Python 3",
   "language": "python",
   "name": "python3"
  },
  "language_info": {
   "codemirror_mode": {
    "name": "ipython",
    "version": 3
   },
   "file_extension": ".py",
   "mimetype": "text/x-python",
   "name": "python",
   "nbconvert_exporter": "python",
   "pygments_lexer": "ipython3",
   "version": "3.8.5"
  }
 },
 "nbformat": 4,
 "nbformat_minor": 4
}
