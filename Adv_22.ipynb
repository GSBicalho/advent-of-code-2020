{
 "cells": [
  {
   "cell_type": "code",
   "execution_count": 1,
   "metadata": {},
   "outputs": [],
   "source": [
    "input_file = \"inputs/aoc_input_22.txt\""
   ]
  },
  {
   "cell_type": "code",
   "execution_count": 2,
   "metadata": {},
   "outputs": [],
   "source": [
    "if True:\n",
    "    with open(input_file) as f:\n",
    "        content = f.read()\n",
    "else:\n",
    "    content = '''\n",
    "Player 1:\n",
    "9\n",
    "2\n",
    "6\n",
    "3\n",
    "1\n",
    "\n",
    "Player 2:\n",
    "5\n",
    "8\n",
    "4\n",
    "7\n",
    "10\n",
    "'''\n",
    "    \n",
    "stack1, stack2 = content.strip().split('\\n\\n')\n",
    "\n",
    "stack1 = list(reversed([int(x) for x in stack1.split('\\n')[1:]]))\n",
    "stack2 = list(reversed([int(x) for x in stack2.split('\\n')[1:]]))"
   ]
  },
  {
   "cell_type": "code",
   "execution_count": 3,
   "metadata": {},
   "outputs": [],
   "source": [
    "def run_game_ex1(stack1, stack2):\n",
    "    stack1 = stack1[:]\n",
    "    stack2 = stack2[:]\n",
    "    \n",
    "    total_cards = len(stack1) + len(stack2)\n",
    "\n",
    "    while len(stack1) != 0 and len(stack2) != 0:\n",
    "    #     print(\"Player 1's deck:\", stack1)\n",
    "    #     print(\"Player 2's deck:\", stack2)\n",
    "\n",
    "        c1 = stack1.pop()\n",
    "        c2 = stack2.pop()\n",
    "\n",
    "    #     print(\"Player 1 plays:\", c1)\n",
    "    #     print(\"Player 2 plays:\", c2)\n",
    "\n",
    "        if c1 > c2:\n",
    "            stack1 = [c2, c1] + stack1\n",
    "        else:\n",
    "            stack2 = [c1, c2] + stack2\n",
    "\n",
    "    winning_stack = stack1 if len(stack1) > 0 else stack2\n",
    "    winner = 1 if len(stack1) > 0 else 2\n",
    "\n",
    "    return winner, winning_stack"
   ]
  },
  {
   "cell_type": "code",
   "execution_count": 4,
   "metadata": {},
   "outputs": [],
   "source": [
    "def get_score(stack):\n",
    "    return sum([(n+1)*v for n,v in enumerate(stack)])"
   ]
  },
  {
   "cell_type": "code",
   "execution_count": 5,
   "metadata": {},
   "outputs": [
    {
     "data": {
      "text/plain": [
       "29764"
      ]
     },
     "execution_count": 5,
     "metadata": {},
     "output_type": "execute_result"
    }
   ],
   "source": [
    "get_score(run_game_ex1(stack1, stack2)[1])"
   ]
  },
  {
   "cell_type": "code",
   "execution_count": 6,
   "metadata": {},
   "outputs": [],
   "source": [
    "def run_game_ex2(stack1, stack2, depth):\n",
    "    seen_states = set()\n",
    "    prefix = ''.join(['-' for x in range(depth)])\n",
    "    \n",
    "    stack1 = stack1[:]\n",
    "    stack2 = stack2[:]\n",
    "    \n",
    "    total_cards = len(stack1) + len(stack2)\n",
    "    \n",
    "    game_count = 1\n",
    "\n",
    "    while len(stack1) != 0 and len(stack2) != 0:\n",
    "        if tuple([tuple(stack1), tuple(stack2)]) in seen_states:\n",
    "            return 1, stack1\n",
    "    \n",
    "        seen_states = seen_states.union(set([tuple([tuple(stack1), tuple(stack2)])]))\n",
    "        \n",
    "#         print(prefix, 'Game', game_count)\n",
    "#         print(prefix, \"Player 1's deck:\", list(reversed(stack1)))\n",
    "#         print(prefix, \"Player 2's deck:\", list(reversed(stack2)))\n",
    "\n",
    "        c1 = stack1.pop()\n",
    "        c2 = stack2.pop()\n",
    "        \n",
    "#         print(prefix, \"Player 1 plays:\", c1)\n",
    "#         print(prefix, \"Player 2 plays:\", c2)\n",
    "        \n",
    "        if c1 <= len(stack1) and c2 <= len(stack2):\n",
    "            winner, _ = run_game_ex2(stack1[-c1:], stack2[-c2:], depth+1)\n",
    "        elif c1 > c2:\n",
    "            winner = 1\n",
    "        else:\n",
    "            winner = 2\n",
    "\n",
    "        if winner == 1:\n",
    "            stack1 = [c2, c1] + stack1\n",
    "        else:\n",
    "            stack2 = [c1, c2] + stack2\n",
    "            \n",
    "#         print(prefix, 'Winner is', winner)\n",
    "#         print()\n",
    "        \n",
    "        game_count += 1\n",
    "\n",
    "    winning_stack = stack1 if len(stack1) > 0 else stack2\n",
    "\n",
    "    return winner, winning_stack"
   ]
  },
  {
   "cell_type": "code",
   "execution_count": 7,
   "metadata": {},
   "outputs": [
    {
     "data": {
      "text/plain": [
       "32588"
      ]
     },
     "execution_count": 7,
     "metadata": {},
     "output_type": "execute_result"
    }
   ],
   "source": [
    "get_score(run_game_ex2(stack1, stack2, 0)[1])"
   ]
  },
  {
   "cell_type": "code",
   "execution_count": null,
   "metadata": {},
   "outputs": [],
   "source": []
  }
 ],
 "metadata": {
  "kernelspec": {
   "display_name": "Python 3",
   "language": "python",
   "name": "python3"
  },
  "language_info": {
   "codemirror_mode": {
    "name": "ipython",
    "version": 3
   },
   "file_extension": ".py",
   "mimetype": "text/x-python",
   "name": "python",
   "nbconvert_exporter": "python",
   "pygments_lexer": "ipython3",
   "version": "3.8.5"
  }
 },
 "nbformat": 4,
 "nbformat_minor": 4
}
