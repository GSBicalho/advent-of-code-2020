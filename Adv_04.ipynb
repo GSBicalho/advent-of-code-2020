{
 "cells": [
  {
   "cell_type": "code",
   "execution_count": 1,
   "metadata": {},
   "outputs": [],
   "source": [
    "input_file = \"inputs/aoc_input_4.txt\"\n",
    "important_attributes = ['byr', 'iyr', 'eyr', 'hgt', 'hcl', 'ecl', 'pid']\n",
    "valid_eye_colors = ['amb', 'blu', 'brn', 'gry', 'grn', 'hzl', 'oth']"
   ]
  },
  {
   "cell_type": "code",
   "execution_count": 2,
   "metadata": {},
   "outputs": [],
   "source": [
    "with open(input_file, 'r') as f:\n",
    "    file_content = f.read() # Read whole file in the file_content string\n",
    "    \n",
    "def file_line_to_dict(line):\n",
    "    return {key:val for (key, val) in [x.split(':') for x in line.split()]}\n",
    "\n",
    "passports = [file_line_to_dict(x.replace('\\n', ' ')) for x in file_content.split('\\n\\n')]\n",
    "    \n",
    "def check_keys(m, keys):\n",
    "    for key in keys:\n",
    "        if key not in m:\n",
    "            return False\n",
    "    return True\n",
    "\n",
    "# byr (Birth Year) - four digits; at least 1920 and at most 2002.\n",
    "# iyr (Issue Year) - four digits; at least 2010 and at most 2020.\n",
    "# eyr (Expiration Year) - four digits; at least 2020 and at most 2030.\n",
    "# hgt (Height) - a number followed by either cm or in:\n",
    "# If cm, the number must be at least 150 and at most 193.\n",
    "# If in, the number must be at least 59 and at most 76.\n",
    "\n",
    "# hcl (Hair Color) - a # followed by exactly six characters 0-9 or a-f.\n",
    "# ecl (Eye Color) - exactly one of: amb blu brn gry grn hzl oth.\n",
    "# pid (Passport ID) - a nine-digit number, including leading zeroes.\n",
    "# cid (Country ID) - ignored, missing or not.\n",
    "\n",
    "def between_included(least, mid, greater):\n",
    "    return least <= int(mid) and int(mid) <= greater\n",
    "\n",
    "def validate_data(pp):\n",
    "    if(check_keys(pp, important_attributes)):\n",
    "        valid = \\\n",
    "          between_included(1920, pp['byr'], 2002) and len(pp['byr']) == 4 and \\\n",
    "          between_included(2010, pp['iyr'], 2020) and len(pp['iyr']) == 4 and \\\n",
    "          between_included(2020, pp['eyr'], 2030) and len(pp['eyr']) == 4\n",
    "        \n",
    "        height_num = pp['hgt'][:-2]\n",
    "        if pp['hgt'].endswith('cm'):\n",
    "            valid = valid and between_included(150, height_num, 193)\n",
    "        elif pp['hgt'].endswith('in'):\n",
    "            valid = valid and between_included(59, height_num, 76)\n",
    "        else: \n",
    "            valid = False\n",
    "            \n",
    "        valid = valid and pp['hcl'].startswith('#') and int(pp['hcl'][1:], 16) >= 0 and len(pp['hcl']) == 7\n",
    "        \n",
    "        valid = valid and pp['ecl'] in valid_eye_colors\n",
    "        valid = valid and len(pp['pid']) == 9 and int(pp['pid']) >= 0\n",
    "\n",
    "        return valid\n",
    "    return False\n",
    "      "
   ]
  },
  {
   "cell_type": "code",
   "execution_count": 3,
   "metadata": {},
   "outputs": [
    {
     "name": "stdout",
     "output_type": "stream",
     "text": [
      "202\n"
     ]
    }
   ],
   "source": [
    "print(sum([check_keys(passport, important_attributes) for passport in passports]))"
   ]
  },
  {
   "cell_type": "code",
   "execution_count": 4,
   "metadata": {},
   "outputs": [
    {
     "name": "stdout",
     "output_type": "stream",
     "text": [
      "137\n"
     ]
    }
   ],
   "source": [
    "print(sum([validate_data(passport) for passport in passports]))"
   ]
  },
  {
   "cell_type": "code",
   "execution_count": null,
   "metadata": {},
   "outputs": [],
   "source": []
  }
 ],
 "metadata": {
  "kernelspec": {
   "display_name": "Python 3",
   "language": "python",
   "name": "python3"
  },
  "language_info": {
   "codemirror_mode": {
    "name": "ipython",
    "version": 3
   },
   "file_extension": ".py",
   "mimetype": "text/x-python",
   "name": "python",
   "nbconvert_exporter": "python",
   "pygments_lexer": "ipython3",
   "version": "3.8.5"
  }
 },
 "nbformat": 4,
 "nbformat_minor": 4
}
