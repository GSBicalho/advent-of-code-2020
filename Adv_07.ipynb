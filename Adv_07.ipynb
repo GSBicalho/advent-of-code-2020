{
 "cells": [
  {
   "cell_type": "code",
   "execution_count": 1,
   "metadata": {},
   "outputs": [],
   "source": [
    "input_file = \"inputs/aoc_input_7.txt\"\n",
    "searched_bag = 'shiny gold'"
   ]
  },
  {
   "cell_type": "code",
   "execution_count": 2,
   "metadata": {},
   "outputs": [],
   "source": [
    "with open(input_file) as f:\n",
    "    content = f.readlines()\n",
    "content = [x.strip() for x in content]\n",
    "\n",
    "def generate_node_descriptions(line):\n",
    "    line = [x.strip() for x in line.replace('.', '').replace(' contain', ',').replace('bags', '').replace('bag', '').split(',')]\n",
    "    \n",
    "    m = {'color': line[0], 'connections': []}\n",
    "    if line[1] == 'no other':\n",
    "        return m\n",
    "    \n",
    "    for color in line[1:]:\n",
    "        m['connections'] += [{'number': color.split()[0], 'color': ' '.join(color.split()[1:])}]\n",
    "        \n",
    "    return m\n",
    "\n",
    "def create_matrix(n):\n",
    "    return [[0 for j in range(n)] for i in range(n)] \n",
    "\n",
    "def descriptions_to_connection_matrix(node_descriptions):\n",
    "    indexes = {node_descriptions[i]['color']:i for i in range(len(node_descriptions))}\n",
    "    m = create_matrix(len(indexes))\n",
    "    \n",
    "    for node_description in node_descriptions:\n",
    "        father_node_color = node_description['color']\n",
    "        for connection in node_description['connections']:\n",
    "            child_node_color = connection['color']\n",
    "            m[indexes[father_node_color]][indexes[child_node_color]] = int(connection['number'])\n",
    "            \n",
    "    return (m, indexes)\n",
    "\n",
    "node_descriptions = [generate_node_descriptions(x) for x in content]\n",
    "connection_matrix, indexes = descriptions_to_connection_matrix(node_descriptions)"
   ]
  },
  {
   "cell_type": "code",
   "execution_count": 3,
   "metadata": {},
   "outputs": [],
   "source": [
    "def get_vertical_slice(m, n):\n",
    "        return [x[n] for x in m]\n",
    "    \n",
    "def search_ex1(connection_matrix, indexes):\n",
    "    bags_searched = set()\n",
    "    bags_to_search = [indexes[searched_bag]]\n",
    "\n",
    "    while len(bags_to_search) > 0:\n",
    "        current_bag = bags_to_search.pop()\n",
    "        if(current_bag not in bags_searched):\n",
    "            bags_searched.add(current_bag)\n",
    "            bag_arrivals = get_vertical_slice(connection_matrix, current_bag)\n",
    "            bags_to_search += [i for i in range(len(bag_arrivals)) if bag_arrivals[i] != 0]\n",
    "\n",
    "    bags_searched.remove(indexes[searched_bag])\n",
    "    \n",
    "    return bags_searched"
   ]
  },
  {
   "cell_type": "code",
   "execution_count": 4,
   "metadata": {},
   "outputs": [
    {
     "data": {
      "text/plain": [
       "296"
      ]
     },
     "execution_count": 4,
     "metadata": {},
     "output_type": "execute_result"
    }
   ],
   "source": [
    "len(search_ex1(connection_matrix, indexes))"
   ]
  },
  {
   "cell_type": "code",
   "execution_count": 5,
   "metadata": {},
   "outputs": [],
   "source": [
    "nodes_fully_searched = {}\n",
    "\n",
    "def search_ex2(connection_matrix, bag):\n",
    "    nodes_fully_searched = {}\n",
    "    \n",
    "    if bag in nodes_fully_searched:\n",
    "        return nodes_fully_searched[bag]\n",
    "    \n",
    "    if sum(connection_matrix[bag]) == 0:\n",
    "        nodes_fully_searched[bag] = 0\n",
    "        return 0\n",
    "    \n",
    "    total_sum = 0\n",
    "    bag_connections = connection_matrix[bag]\n",
    "    \n",
    "    for i in range(len(bag_connections)):\n",
    "        if bag_connections[i] != 0:\n",
    "            total_sum += (1 + search_ex2(connection_matrix, i)) * bag_connections[i]\n",
    "    \n",
    "    return total_sum"
   ]
  },
  {
   "cell_type": "code",
   "execution_count": 6,
   "metadata": {},
   "outputs": [
    {
     "data": {
      "text/plain": [
       "9339"
      ]
     },
     "execution_count": 6,
     "metadata": {},
     "output_type": "execute_result"
    }
   ],
   "source": [
    "search_ex2(connection_matrix, indexes[searched_bag])"
   ]
  },
  {
   "cell_type": "code",
   "execution_count": null,
   "metadata": {},
   "outputs": [],
   "source": []
  }
 ],
 "metadata": {
  "kernelspec": {
   "display_name": "Python 3",
   "language": "python",
   "name": "python3"
  },
  "language_info": {
   "codemirror_mode": {
    "name": "ipython",
    "version": 3
   },
   "file_extension": ".py",
   "mimetype": "text/x-python",
   "name": "python",
   "nbconvert_exporter": "python",
   "pygments_lexer": "ipython3",
   "version": "3.8.5"
  }
 },
 "nbformat": 4,
 "nbformat_minor": 4
}
