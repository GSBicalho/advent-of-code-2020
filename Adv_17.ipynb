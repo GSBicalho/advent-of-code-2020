{
 "cells": [
  {
   "cell_type": "code",
   "execution_count": 4,
   "metadata": {},
   "outputs": [],
   "source": [
    "from pprint import pprint\n",
    "import itertools\n",
    "\n",
    "input_file = \"inputs/aoc_input_17.txt\"\n",
    "max_turns = 6\n",
    "\n",
    "DEAD = '.'\n",
    "ALIVE = '#'"
   ]
  },
  {
   "cell_type": "code",
   "execution_count": 5,
   "metadata": {},
   "outputs": [],
   "source": [
    "if True:\n",
    "    with open(input_file) as f:\n",
    "        content = f.readlines()\n",
    "    content = [x.strip() for x in content]\n",
    "else:\n",
    "    content = '''\n",
    ".#.\n",
    "..#\n",
    "###\n",
    "'''.strip().split('\\n')"
   ]
  },
  {
   "cell_type": "code",
   "execution_count": 6,
   "metadata": {},
   "outputs": [],
   "source": [
    "def generate_2d_matrix(n):\n",
    "    return [[DEAD for x in range(n)] for y in range(n)] \n",
    "\n",
    "def generate_nd_matrix(size, n):\n",
    "    if n == 2:\n",
    "        return generate_2d_matrix(size)\n",
    "    return[generate_nd_matrix(size, n-1) for x in range(size)]\n"
   ]
  },
  {
   "cell_type": "code",
   "execution_count": 7,
   "metadata": {},
   "outputs": [],
   "source": [
    "# This could be made much more efficient if the matrix was expanded only when necessary.\n",
    "# Without using numpy or some other lib for matrixes, that would be a major pain in the ass\n",
    "# So I just expand all it can possibly need to be expanded beforehand\n",
    "def expand_matrix(m, D, turns):\n",
    "    SIZE = len(m)\n",
    "    \n",
    "    max_matrix_size = SIZE + turns*2\n",
    "    conway_matrix = generate_nd_matrix(max_matrix_size, D)\n",
    "    \n",
    "    dimension_padding = [turns + int(SIZE/2) for x in range(D-2)]\n",
    "\n",
    "    for x in range(SIZE):\n",
    "        for y in range(SIZE):\n",
    "            set_in_matrix(conway_matrix, dimension_padding + [turns + x, turns + y], m[x][y])\n",
    "            \n",
    "    return conway_matrix"
   ]
  },
  {
   "cell_type": "code",
   "execution_count": 8,
   "metadata": {},
   "outputs": [],
   "source": [
    "def get_from_matrix(m, coords):\n",
    "    if len(coords) == 1:\n",
    "        return m[coords[0]]\n",
    "    return get_from_matrix(m[coords[0]], coords[1:])\n",
    "\n",
    "def set_in_matrix(m, coords, value):\n",
    "    if len(coords) == 1:\n",
    "        m[coords[0]] = value\n",
    "    else:\n",
    "        set_in_matrix(m[coords[0]], coords[1:], value)\n",
    "\n",
    "def get_immediate_surroundings(m, coords):\n",
    "    D = len(coords)\n",
    "    SIZE = len(m)\n",
    "    \n",
    "    surroundings = []\n",
    "    relative_locations = itertools.product([-1,0,1], repeat=D)\n",
    "    \n",
    "    for location in relative_locations:\n",
    "        new_coords = [coord + delta for coord, delta in zip(coords, location)]\n",
    "        within_bounds = all([coord < SIZE and 0 <= coord for coord in new_coords])\n",
    "        is_zero = all([l==0 for l in location])\n",
    "        \n",
    "        if within_bounds and not is_zero:\n",
    "            surroundings.append(get_from_matrix(m, new_coords))\n",
    "    return surroundings\n",
    "\n",
    "def do_step(m, D):\n",
    "    SIZE = len(m)\n",
    "    \n",
    "    new_state = generate_nd_matrix(len(m), D)\n",
    "    coords = itertools.product(range(SIZE), repeat=D)\n",
    "    \n",
    "    for coord in coords:\n",
    "        cube_state = get_from_matrix(m, coord)\n",
    "        surroundings = get_immediate_surroundings(m, coord)\n",
    "        cubes_around = len([cube for cube in surroundings if cube == ALIVE])\n",
    "        \n",
    "        if cube_state == ALIVE:\n",
    "            if cubes_around in [2, 3]:\n",
    "                new_cube = ALIVE\n",
    "            else:\n",
    "                new_cube = DEAD\n",
    "        else:\n",
    "            if cubes_around == 3:\n",
    "                new_cube = ALIVE\n",
    "            else:\n",
    "                new_cube = DEAD\n",
    "                \n",
    "        set_in_matrix(new_state, coord, new_cube)\n",
    "    return new_state\n",
    "\n",
    "def reduce_matrix(m, new_n):\n",
    "    if not isinstance(m, list):\n",
    "        return m\n",
    "    \n",
    "    new_m = []\n",
    "    for i in range(int((len(m) - new_n)/2), int((len(m) + new_n)/2)):\n",
    "        new_m.append(reduce_matrix(m[i], new_n))\n",
    "        \n",
    "    return new_m"
   ]
  },
  {
   "cell_type": "code",
   "execution_count": 9,
   "metadata": {
    "scrolled": true
   },
   "outputs": [],
   "source": [
    "def print_3d_matrix(m):\n",
    "    for i,zs in enumerate(m):\n",
    "        print('z =', i)\n",
    "        for ys in zs:\n",
    "            print(''.join(ys))\n",
    "        print()\n",
    "\n",
    "def print_2d_matrix(m):\n",
    "        for ys in m:\n",
    "            print(''.join(ys))\n",
    "        print()\n"
   ]
  },
  {
   "cell_type": "code",
   "execution_count": 10,
   "metadata": {},
   "outputs": [],
   "source": [
    "def run_conway(init_matrix, D, max_turns):\n",
    "    m = expand_matrix(init_matrix, D, max_turns)\n",
    "    for i in range(max_turns):\n",
    "        m = do_step(m, D)\n",
    "        \n",
    "    return m"
   ]
  },
  {
   "cell_type": "code",
   "execution_count": 11,
   "metadata": {},
   "outputs": [],
   "source": [
    "def count_alive(m, D):\n",
    "    coords = itertools.product(range(len(m)), repeat=D)\n",
    "    c = 0\n",
    "    for coord in coords:\n",
    "        if get_from_matrix(m, coord) == ALIVE:\n",
    "            c += 1\n",
    "    return c"
   ]
  },
  {
   "cell_type": "code",
   "execution_count": 12,
   "metadata": {},
   "outputs": [
    {
     "data": {
      "text/plain": [
       "291"
      ]
     },
     "execution_count": 12,
     "metadata": {},
     "output_type": "execute_result"
    }
   ],
   "source": [
    "conway_3 = run_conway(content, 3, max_turns)\n",
    "count_alive(conway_3, 3)"
   ]
  },
  {
   "cell_type": "code",
   "execution_count": 13,
   "metadata": {},
   "outputs": [
    {
     "data": {
      "text/plain": [
       "1524"
      ]
     },
     "execution_count": 13,
     "metadata": {},
     "output_type": "execute_result"
    }
   ],
   "source": [
    "conway_4 = run_conway(content, 4, max_turns)\n",
    "count_alive(conway_4, 4)"
   ]
  },
  {
   "cell_type": "code",
   "execution_count": null,
   "metadata": {},
   "outputs": [],
   "source": []
  }
 ],
 "metadata": {
  "kernelspec": {
   "display_name": "Python 3",
   "language": "python",
   "name": "python3"
  },
  "language_info": {
   "codemirror_mode": {
    "name": "ipython",
    "version": 3
   },
   "file_extension": ".py",
   "mimetype": "text/x-python",
   "name": "python",
   "nbconvert_exporter": "python",
   "pygments_lexer": "ipython3",
   "version": "3.8.5"
  }
 },
 "nbformat": 4,
 "nbformat_minor": 4
}
