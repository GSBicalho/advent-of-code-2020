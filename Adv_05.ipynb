{
 "cells": [
  {
   "cell_type": "code",
   "execution_count": 1,
   "metadata": {},
   "outputs": [],
   "source": [
    "input_file = 'input/aoc_input_5.txt'"
   ]
  },
  {
   "cell_type": "code",
   "execution_count": 2,
   "metadata": {},
   "outputs": [],
   "source": [
    "with open(input_file) as f:\n",
    "    content = f.readlines()\n",
    "content = [x.strip() for x in content]"
   ]
  },
  {
   "cell_type": "code",
   "execution_count": 3,
   "metadata": {},
   "outputs": [],
   "source": [
    "def calculate(loc_string):\n",
    "    mx = pow(2, len(loc_string))\n",
    "    mn = 0\n",
    "    \n",
    "    for i in loc_string:\n",
    "        if i == 'U':\n",
    "            mn = (mx + mn)/2\n",
    "        if i == 'D':\n",
    "            mx = (mx + mn)/2\n",
    "        #print(mn, mx)\n",
    "    return int(mx - 1)\n",
    "\n",
    "def find_location(loc_string):\n",
    "    loc_string = loc_string.replace('B', 'U').replace('R', 'U').replace('F', 'D').replace('L', 'D')\n",
    "    row = calculate(loc_string[:-3])\n",
    "    column = calculate(loc_string[-3:])\n",
    "    \n",
    "    return row, column\n",
    "\n",
    "def id_from_loc_string(loc_string):\n",
    "    row, column = find_location(loc_string)\n",
    "    return row*8 + column\n",
    "    "
   ]
  },
  {
   "cell_type": "code",
   "execution_count": 4,
   "metadata": {},
   "outputs": [
    {
     "data": {
      "text/plain": [
       "904"
      ]
     },
     "execution_count": 4,
     "metadata": {},
     "output_type": "execute_result"
    }
   ],
   "source": [
    "print(max([id_from_loc_string(x) for x in content]))"
   ]
  },
  {
   "cell_type": "code",
   "execution_count": 5,
   "metadata": {},
   "outputs": [
    {
     "name": "stdout",
     "output_type": "stream",
     "text": [
      "669\n"
     ]
    }
   ],
   "source": [
    "l = sorted([id_from_loc_string(x) for x in content])\n",
    "for i in range(len(l) - 1):\n",
    "    if l[i]+1 != l[i+1]:\n",
    "        print(l[i]+1)\n",
    "        break"
   ]
  }
 ],
 "metadata": {
  "kernelspec": {
   "display_name": "Python 3",
   "language": "python",
   "name": "python3"
  },
  "language_info": {
   "codemirror_mode": {
    "name": "ipython",
    "version": 3
   },
   "file_extension": ".py",
   "mimetype": "text/x-python",
   "name": "python",
   "nbconvert_exporter": "python",
   "pygments_lexer": "ipython3",
   "version": "3.8.5"
  }
 },
 "nbformat": 4,
 "nbformat_minor": 2
}
