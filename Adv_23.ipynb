{
 "cells": [
  {
   "cell_type": "code",
   "execution_count": 1,
   "metadata": {},
   "outputs": [],
   "source": [
    "starting_game_state = '872495136'"
   ]
  },
  {
   "cell_type": "code",
   "execution_count": 2,
   "metadata": {},
   "outputs": [],
   "source": [
    "class LinkedListNode:\n",
    "    def __init__(self, item):\n",
    "        self.item = item\n",
    "        self.left = None\n",
    "        self.right = None\n",
    "        \n",
    "def list_to_string(l, start):\n",
    "    curr = l[start]\n",
    "    s = ''\n",
    "    while curr.right.item != start:\n",
    "        s += ' ' + str(curr.item)\n",
    "        curr = curr.right\n",
    "    s += ' ' + str(curr.item)\n",
    "    return s.strip()"
   ]
  },
  {
   "cell_type": "code",
   "execution_count": 3,
   "metadata": {},
   "outputs": [],
   "source": [
    "def play_game(starting_game_state, number_of_moves, debug=False, progress=False):\n",
    "    \n",
    "    cups = {x:LinkedListNode(x) for x in starting_game_state}\n",
    "    for i in range(len(starting_game_state)):\n",
    "        cup = starting_game_state[i]\n",
    "        cups[cup].left = cups[starting_game_state[i-1]]\n",
    "        if i+1 == len(starting_game_state):\n",
    "            cups[cup].right = cups[starting_game_state[0]]\n",
    "        else:\n",
    "            cups[cup].right = cups[starting_game_state[i+1]]\n",
    "\n",
    "    largest_cup_number = max(starting_game_state)\n",
    "    current_cup_number = starting_game_state[0]\n",
    "\n",
    "    for i in range(number_of_moves):\n",
    "        if debug:\n",
    "            print('-- move', i+1, '--')\n",
    "            \n",
    "        if progress and i % 1000000 == 0:\n",
    "            print(100*i/number_of_moves, '%')\n",
    "        \n",
    "        if debug:\n",
    "            print('cups:', list_to_string(cups, current_cup_number))\n",
    "\n",
    "        current_cup = cups[current_cup_number]\n",
    "        picked_cups = [current_cup.right, \n",
    "                       current_cup.right.right, \n",
    "                       current_cup.right.right.right]\n",
    "        picked_cup_numbers = [x.item for x in picked_cups]\n",
    "\n",
    "        if debug:\n",
    "            print('pick up:', picked_cup_numbers)\n",
    "\n",
    "        found_destination = False\n",
    "        destination_cup_number = current_cup_number - 1\n",
    "        while not found_destination:\n",
    "            if destination_cup_number > 0 and destination_cup_number not in picked_cup_numbers:\n",
    "                found_destination = True\n",
    "            elif destination_cup_number <= 0:\n",
    "                destination_cup_number = largest_cup_number\n",
    "            else:\n",
    "                destination_cup_number -= 1\n",
    "\n",
    "        if debug:\n",
    "            print('destination:', destination_cup_number)\n",
    "\n",
    "        new_right_cup = picked_cups[-1].right\n",
    "        new_right_cup.left = current_cup\n",
    "        current_cup.right = new_right_cup\n",
    "\n",
    "        destination_cup = cups[destination_cup_number]\n",
    "\n",
    "        destination_cup.right.left = picked_cups[-1]\n",
    "        picked_cups[-1].right = destination_cup.right\n",
    "        destination_cup.right = picked_cups[0]\n",
    "        picked_cups[0].left = destination_cup\n",
    "\n",
    "        current_cup_number = current_cup.right.item    \n",
    "        \n",
    "    return cups"
   ]
  },
  {
   "cell_type": "code",
   "execution_count": 4,
   "metadata": {},
   "outputs": [
    {
     "name": "stdout",
     "output_type": "stream",
     "text": [
      "27865934\n"
     ]
    }
   ],
   "source": [
    "game_state = [int(x) for x in starting_game_state]\n",
    "final_game_state = play_game(game_state, 100)\n",
    "\n",
    "print(''.join(list_to_string(final_game_state, 1).split()[1:]))"
   ]
  },
  {
   "cell_type": "code",
   "execution_count": 5,
   "metadata": {},
   "outputs": [],
   "source": [
    "ex2_total_cups =  1000000\n",
    "ex2_num_moves  = 10000000\n",
    "\n",
    "game_state = [int(x) for x in starting_game_state]\n",
    "\n",
    "largest_cup = max(game_state)\n",
    "\n",
    "starting_game_state_ex2 = game_state + list(range(largest_cup+1, ex2_total_cups+1))\n",
    "final_game_state = play_game(starting_game_state_ex2, ex2_num_moves)"
   ]
  },
  {
   "cell_type": "code",
   "execution_count": 6,
   "metadata": {},
   "outputs": [
    {
     "data": {
      "text/plain": [
       "170836011000"
      ]
     },
     "execution_count": 6,
     "metadata": {},
     "output_type": "execute_result"
    }
   ],
   "source": [
    "final_game_state[1].right.item * final_game_state[1].right.right.item"
   ]
  },
  {
   "cell_type": "code",
   "execution_count": null,
   "metadata": {},
   "outputs": [],
   "source": []
  }
 ],
 "metadata": {
  "kernelspec": {
   "display_name": "Python 3",
   "language": "python",
   "name": "python3"
  },
  "language_info": {
   "codemirror_mode": {
    "name": "ipython",
    "version": 3
   },
   "file_extension": ".py",
   "mimetype": "text/x-python",
   "name": "python",
   "nbconvert_exporter": "python",
   "pygments_lexer": "ipython3",
   "version": "3.8.5"
  }
 },
 "nbformat": 4,
 "nbformat_minor": 4
}
