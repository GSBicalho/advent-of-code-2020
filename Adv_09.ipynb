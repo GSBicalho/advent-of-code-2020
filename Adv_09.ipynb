{
 "cells": [
  {
   "cell_type": "code",
   "execution_count": 1,
   "metadata": {},
   "outputs": [],
   "source": [
    "input_file = \"inputs/aoc_input_9.txt\"\n",
    "preamble_size = 8"
   ]
  },
  {
   "cell_type": "code",
   "execution_count": 2,
   "metadata": {},
   "outputs": [
    {
     "data": {
      "text/plain": [
       "144381670"
      ]
     },
     "execution_count": 2,
     "metadata": {},
     "output_type": "execute_result"
    }
   ],
   "source": [
    "preamble_size = 25\n",
    "with open(input_file) as f:\n",
    "    content = f.readlines()\n",
    "content = [int(x.strip()) for x in content]\n",
    "\n",
    "import itertools\n",
    "\n",
    "def naive_find_ex1(numbers, preamble_size):\n",
    "    for i in range(len(numbers) - preamble_size):\n",
    "        possible_multiplications = itertools.combinations(numbers[i:i+preamble_size], 2)\n",
    "        desired_number = numbers[i+preamble_size]\n",
    "        \n",
    "        found_pair = False\n",
    "        for number in possible_multiplications:\n",
    "            if number[0] + number[1] == desired_number:\n",
    "                found_pair = True\n",
    "                break\n",
    "        \n",
    "        if not found_pair:\n",
    "            return desired_number\n",
    "    return False\n",
    "        \n",
    "desired_number = naive_find_ex1(content, 25)\n",
    "desired_number"
   ]
  },
  {
   "cell_type": "code",
   "execution_count": 3,
   "metadata": {},
   "outputs": [
    {
     "name": "stdout",
     "output_type": "stream",
     "text": [
      "(5779902, 14752667)\n"
     ]
    },
    {
     "data": {
      "text/plain": [
       "20532569"
      ]
     },
     "execution_count": 3,
     "metadata": {},
     "output_type": "execute_result"
    }
   ],
   "source": [
    "def naive_find_ex2(numbers, desired_number):\n",
    "    for i in range(len(numbers)):\n",
    "        for j in range(i+1, len(numbers)):\n",
    "            aux = numbers[i:j+1]\n",
    "            if sum(aux) == desired_number:\n",
    "                return min(aux), max(aux)\n",
    "            if sum(aux) > desired_number:\n",
    "                break\n",
    "    return False\n",
    "\n",
    "result = naive_find_ex2(content, desired_number)\n",
    "print(result)\n",
    "sum(result)"
   ]
  }
 ],
 "metadata": {
  "kernelspec": {
   "display_name": "Python 3",
   "language": "python",
   "name": "python3"
  },
  "language_info": {
   "codemirror_mode": {
    "name": "ipython",
    "version": 3
   },
   "file_extension": ".py",
   "mimetype": "text/x-python",
   "name": "python",
   "nbconvert_exporter": "python",
   "pygments_lexer": "ipython3",
   "version": "3.8.5"
  }
 },
 "nbformat": 4,
 "nbformat_minor": 4
}
