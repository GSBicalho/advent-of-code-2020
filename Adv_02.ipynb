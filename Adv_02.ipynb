{
 "cells": [
  {
   "cell_type": "code",
   "execution_count": 1,
   "metadata": {},
   "outputs": [],
   "source": [
    "input_file = \"inputs/aoc_input_2.txt\""
   ]
  },
  {
   "cell_type": "code",
   "execution_count": 2,
   "metadata": {},
   "outputs": [],
   "source": [
    "with open(input_file) as f:\n",
    "    content = f.readlines()\n",
    "    \n",
    "def process_line_ex1(line):\n",
    "    (minmax, letter, password) = line.split(' ')\n",
    "    (letter_min, letter_max) = [int(x) for x in minmax.split('-')]\n",
    "    letter = letter[:-1]\n",
    "    \n",
    "    count_occurrances = password.count(letter)\n",
    "    \n",
    "    return letter_min <= count_occurrances and count_occurrances <= letter_max\n",
    "\n",
    "def process_line_ex2(line):\n",
    "    (minmax, letter, password) = line.split(' ')\n",
    "    (i_a, i_b) = [int(x) for x in minmax.split('-')]\n",
    "    letter = letter[:-1]\n",
    "    \n",
    "    ar = password[i_a-1] == letter\n",
    "    br = password[i_b-1] == letter\n",
    "    \n",
    "    return (ar and not br) or (not ar and br)"
   ]
  },
  {
   "cell_type": "code",
   "execution_count": 3,
   "metadata": {},
   "outputs": [
    {
     "name": "stdout",
     "output_type": "stream",
     "text": [
      "542\n"
     ]
    }
   ],
   "source": [
    "print([process_line_ex1(line) for line in content].count(True))"
   ]
  },
  {
   "cell_type": "code",
   "execution_count": 4,
   "metadata": {},
   "outputs": [
    {
     "name": "stdout",
     "output_type": "stream",
     "text": [
      "360\n"
     ]
    }
   ],
   "source": [
    "print([process_line_ex2(line) for line in content].count(True))"
   ]
  }
 ],
 "metadata": {
  "kernelspec": {
   "display_name": "Python 3",
   "language": "python",
   "name": "python3"
  },
  "language_info": {
   "codemirror_mode": {
    "name": "ipython",
    "version": 3
   },
   "file_extension": ".py",
   "mimetype": "text/x-python",
   "name": "python",
   "nbconvert_exporter": "python",
   "pygments_lexer": "ipython3",
   "version": "3.8.5"
  }
 },
 "nbformat": 4,
 "nbformat_minor": 4
}
