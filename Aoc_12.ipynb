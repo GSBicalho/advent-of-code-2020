{
 "cells": [
  {
   "cell_type": "code",
   "execution_count": 32,
   "metadata": {},
   "outputs": [],
   "source": [
    "input_file = \"aoc_input_12.txt\"\n",
    "starting_direction = 'E'\n",
    "directions_wheel = ['N', 'E', 'S', 'W']\n",
    "turning_commands = ['R', 'L']\n",
    "movement_amount = {'N':(0,1), 'E':(1,0), 'S':(0,-1), 'W':(-1,0)}\n",
    "turning_step = 90"
   ]
  },
  {
   "cell_type": "code",
   "execution_count": 74,
   "metadata": {},
   "outputs": [],
   "source": [
    "if True:\n",
    "    with open(input_file) as f:\n",
    "        content = f.readlines()\n",
    "    content = [x.strip() for x in content]\n",
    "else:\n",
    "    content = \"\"\"\n",
    "F10\n",
    "N3\n",
    "F7\n",
    "R90\n",
    "F11\n",
    "\"\"\".strip().split('\\n')"
   ]
  },
  {
   "cell_type": "code",
   "execution_count": 85,
   "metadata": {},
   "outputs": [],
   "source": [
    "def move_direction(current_position, direction, amount):\n",
    "    current_position[0] += movement_amount[direction][0]*amount\n",
    "    current_position[1] += movement_amount[direction][1]*amount\n",
    "    \n",
    "    return current_position\n",
    "\n",
    "\n",
    "directions = content\n",
    "\n",
    "def sail_ex1(starting_direction, starting_position, directions, print_movements):\n",
    "    current_direction = starting_direction\n",
    "    current_position = starting_position\n",
    "\n",
    "    if print_movements:\n",
    "        print('Starting at', current_position, 'facing', current_direction)\n",
    "    for line in directions:\n",
    "        command = line[0]\n",
    "        amount = int(line[1:])\n",
    "\n",
    "        if command in directions_wheel:\n",
    "            current_position = move_direction(current_position, command, amount)\n",
    "            if print_movements:\n",
    "                print('Moved to', current_position)\n",
    "        elif command in turning_commands:\n",
    "            signal = 1 if command == 'R' else -1\n",
    "            amount = int(amount / turning_step * signal)\n",
    "\n",
    "            new_direction_index = (directions_wheel.index(current_direction) + amount)\n",
    "            if new_direction_index > 0:\n",
    "                new_direction_index = new_direction_index % len(directions_wheel)\n",
    "            current_direction = directions_wheel[new_direction_index]\n",
    "\n",
    "            if print_movements:\n",
    "                print('Turned to ', current_direction)\n",
    "        elif command == 'F':\n",
    "            current_position = move_direction(current_position, current_direction, amount)\n",
    "            if print_movements:\n",
    "                print('Moved to', current_position)\n",
    "        else:\n",
    "            print('Parsing fail!')\n",
    "            \n",
    "    return current_position\n",
    "\n",
    "def manhattam_distance_from_origin(position):\n",
    "    return sum([x if x > 0 else -x for x in position])"
   ]
  },
  {
   "cell_type": "code",
   "execution_count": 87,
   "metadata": {},
   "outputs": [
    {
     "data": {
      "text/plain": [
       "757"
      ]
     },
     "execution_count": 87,
     "metadata": {},
     "output_type": "execute_result"
    }
   ],
   "source": [
    "final_position = sail_ex1(starting_direction, [0,0], content, False)\n",
    "manhattam_distance_from_origin(final_position)"
   ]
  },
  {
   "cell_type": "code",
   "execution_count": 89,
   "metadata": {},
   "outputs": [],
   "source": [
    "def turn_right(waypoint_position):\n",
    "    return [waypoint_position[1] , -waypoint_position[0]]\n",
    "\n",
    "def sail_ex2(starting_waypoint_position, starting_position, directions, print_movements):\n",
    "    current_position = starting_position\n",
    "    current_waypoint_position = starting_waypoint_position\n",
    "    \n",
    "    if print_movements:\n",
    "        print('Starting at', current_position, ' with waypoint at', current_waypoint_position)\n",
    "    for line in directions:\n",
    "        command = line[0]\n",
    "        amount = int(line[1:])\n",
    "\n",
    "        if command in directions_wheel:\n",
    "            current_waypoint_position = move_direction(current_waypoint_position, command, amount)\n",
    "            if print_movements:\n",
    "                print('Moved Waypoint to', current_waypoint_position)\n",
    "        elif command in turning_commands:\n",
    "            r_turns_count = int(amount/ turning_step)\n",
    "            if command == 'L':\n",
    "                r_turns_count = len(directions_wheel) - r_turns_count\n",
    "                \n",
    "            for i in range(r_turns_count):\n",
    "                current_waypoint_position = turn_right(current_waypoint_position)\n",
    "\n",
    "            if print_movements:\n",
    "                print('Turned so waypoint is at ', current_waypoint_position)\n",
    "        elif command == 'F':\n",
    "            current_position[0] += current_waypoint_position[0]*amount\n",
    "            current_position[1] += current_waypoint_position[1]*amount\n",
    "            if print_movements:\n",
    "                print('Moved Ship to', current_position)\n",
    "        else:\n",
    "            print('Parsing fail!')\n",
    "    return current_position"
   ]
  },
  {
   "cell_type": "code",
   "execution_count": 91,
   "metadata": {},
   "outputs": [
    {
     "data": {
      "text/plain": [
       "51249"
      ]
     },
     "execution_count": 91,
     "metadata": {},
     "output_type": "execute_result"
    }
   ],
   "source": [
    "final_position = sail_ex2([10, 1], [0,0], content, False)\n",
    "manhattam_distance_from_origin(final_position)"
   ]
  },
  {
   "cell_type": "code",
   "execution_count": null,
   "metadata": {},
   "outputs": [],
   "source": []
  }
 ],
 "metadata": {
  "kernelspec": {
   "display_name": "Python 3",
   "language": "python",
   "name": "python3"
  },
  "language_info": {
   "codemirror_mode": {
    "name": "ipython",
    "version": 3
   },
   "file_extension": ".py",
   "mimetype": "text/x-python",
   "name": "python",
   "nbconvert_exporter": "python",
   "pygments_lexer": "ipython3",
   "version": "3.6.1"
  }
 },
 "nbformat": 4,
 "nbformat_minor": 2
}
