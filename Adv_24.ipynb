{
 "cells": [
  {
   "cell_type": "code",
   "execution_count": 1,
   "metadata": {},
   "outputs": [],
   "source": [
    "input_file = \"inputs/aoc_input_24.txt\"\n",
    "rounds_ex2 = 100\n",
    "\n",
    "SE = 'se'\n",
    "SW = 'sw'\n",
    "NE = 'ne'\n",
    "NW = 'nw'\n",
    "E = 'e'\n",
    "W = 'w'\n",
    "\n",
    "POSSIBLE_DIRECTIONS = [SE, SW, NE, NW, E, W]\n",
    "DIRECTION_VECTORS = [\n",
    "    (-1,  1), #SE\n",
    "    (-1, -1), #SW\n",
    "    ( 1,  1), #NE\n",
    "    ( 1, -1), #NW\n",
    "    ( 0,  2), #E\n",
    "    ( 0, -2), #W\n",
    "]"
   ]
  },
  {
   "cell_type": "code",
   "execution_count": 2,
   "metadata": {},
   "outputs": [],
   "source": [
    "if True:\n",
    "    with open(input_file) as f:\n",
    "        content = f.readlines()\n",
    "    content = [x.strip() for x in content]\n",
    "else:\n",
    "    content = '''\n",
    "sesenwnenenewseeswwswswwnenewsewsw\n",
    "neeenesenwnwwswnenewnwwsewnenwseswesw\n",
    "seswneswswsenwwnwse\n",
    "nwnwneseeswswnenewneswwnewseswneseene\n",
    "swweswneswnenwsewnwneneseenw\n",
    "eesenwseswswnenwswnwnwsewwnwsene\n",
    "sewnenenenesenwsewnenwwwse\n",
    "wenwwweseeeweswwwnwwe\n",
    "wsweesenenewnwwnwsenewsenwwsesesenwne\n",
    "neeswseenwwswnwswswnw\n",
    "nenwswwsewswnenenewsenwsenwnesesenew\n",
    "enewnwewneswsewnwswenweswnenwsenwsw\n",
    "sweneswneswneneenwnewenewwneswswnese\n",
    "swwesenesewenwneswnwwneseswwne\n",
    "enesenwswwswneneswsenwnewswseenwsese\n",
    "wnwnesenesenenwwnenwsewesewsesesew\n",
    "nenewswnwewswnenesenwnesewesw\n",
    "eneswnwswnwsenenwnwnwwseeswneewsenese\n",
    "neswnwewnwnwseenwseesewsenwsweewe\n",
    "wseweeenwnesenwwwswnew\n",
    "'''.strip().split('\\n')"
   ]
  },
  {
   "cell_type": "code",
   "execution_count": 3,
   "metadata": {},
   "outputs": [],
   "source": [
    "def parse_line(line):\n",
    "    result = []\n",
    "    while len(line) > 0:\n",
    "        for possible_direction in POSSIBLE_DIRECTIONS:\n",
    "            if line.startswith(possible_direction):\n",
    "                result += [possible_direction]\n",
    "                line = line[len(possible_direction):]\n",
    "                break\n",
    "                \n",
    "    return result"
   ]
  },
  {
   "cell_type": "code",
   "execution_count": 4,
   "metadata": {},
   "outputs": [],
   "source": [
    "instructions = [parse_line(x) for x in content]"
   ]
  },
  {
   "cell_type": "code",
   "execution_count": 5,
   "metadata": {},
   "outputs": [],
   "source": [
    "wheel_of_directions = [NW, W, SW, SE, E, NE]\n",
    "\n",
    "\n",
    "def reduce_instructions(instructions):\n",
    "    m = {x:0 for x in wheel_of_directions}\n",
    "    for instruction in instructions:\n",
    "        m[instruction] += 1\n",
    "    \n",
    "    ne_movement = m[NE] - m[SW]\n",
    "    ee_movement = m[E]  - m[W]\n",
    "    se_movement = m[SE] - m[NW]\n",
    "    \n",
    "    n_movement = ne_movement - se_movement\n",
    "    e_movement = ee_movement*2 + ne_movement + se_movement\n",
    "    \n",
    "    return n_movement, e_movement"
   ]
  },
  {
   "cell_type": "code",
   "execution_count": 6,
   "metadata": {},
   "outputs": [],
   "source": [
    "reduced_instructions = [reduce_instructions(x) for x in instructions]\n",
    "m = {x:0 for x in set(reduced_instructions)}\n",
    "for i in reduced_instructions:\n",
    "    m[i] += 1"
   ]
  },
  {
   "cell_type": "code",
   "execution_count": 7,
   "metadata": {},
   "outputs": [
    {
     "data": {
      "text/plain": [
       "388"
      ]
     },
     "execution_count": 7,
     "metadata": {},
     "output_type": "execute_result"
    }
   ],
   "source": [
    "len([x for x in m.values() if x%2==1])"
   ]
  },
  {
   "cell_type": "code",
   "execution_count": 9,
   "metadata": {},
   "outputs": [],
   "source": [
    "def get_neighbors(tile):\n",
    "    return [(tile[0] + d[0], tile[1]+d[1]) for d in DIRECTION_VECTORS]\n",
    "\n",
    "\n",
    "blacks_list = set([key for key,val in m.items() if val%2==1])\n",
    "for i in range(rounds_ex2):\n",
    "    neighbors = []\n",
    "    for tile in blacks_list:\n",
    "        neighbors += get_neighbors(tile)\n",
    "    to_calculate = blacks_list.union(set(neighbors))\n",
    "    \n",
    "    new_blacks_list = []\n",
    "    \n",
    "    for tile in to_calculate:\n",
    "        tile_neighbors = get_neighbors(tile)\n",
    "        \n",
    "        adjacent_blacks = len([x for x in tile_neighbors if x in blacks_list])\n",
    "        \n",
    "        if tile in blacks_list:\n",
    "            if adjacent_blacks == 1 or adjacent_blacks == 2:\n",
    "                new_blacks_list.append(tile)\n",
    "        else:\n",
    "            if adjacent_blacks == 2:\n",
    "                new_blacks_list.append(tile)\n",
    "    blacks_list = set(new_blacks_list)\n",
    "        \n",
    "    "
   ]
  },
  {
   "cell_type": "code",
   "execution_count": 10,
   "metadata": {},
   "outputs": [
    {
     "data": {
      "text/plain": [
       "4002"
      ]
     },
     "execution_count": 10,
     "metadata": {},
     "output_type": "execute_result"
    }
   ],
   "source": [
    "len(blacks_list)"
   ]
  },
  {
   "cell_type": "code",
   "execution_count": null,
   "metadata": {},
   "outputs": [],
   "source": []
  }
 ],
 "metadata": {
  "kernelspec": {
   "display_name": "Python 3",
   "language": "python",
   "name": "python3"
  },
  "language_info": {
   "codemirror_mode": {
    "name": "ipython",
    "version": 3
   },
   "file_extension": ".py",
   "mimetype": "text/x-python",
   "name": "python",
   "nbconvert_exporter": "python",
   "pygments_lexer": "ipython3",
   "version": "3.8.5"
  }
 },
 "nbformat": 4,
 "nbformat_minor": 4
}
