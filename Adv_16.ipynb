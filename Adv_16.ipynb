{
 "cells": [
  {
   "cell_type": "code",
   "execution_count": 1,
   "metadata": {},
   "outputs": [],
   "source": [
    "from pprint import pprint\n",
    "\n",
    "input_file = \"inputs/aoc_input_16.txt\"\n",
    "search_word = 'departure'"
   ]
  },
  {
   "cell_type": "code",
   "execution_count": 2,
   "metadata": {},
   "outputs": [],
   "source": [
    "if True:\n",
    "    with open(input_file) as f:\n",
    "        content = f.read()\n",
    "    content = content.strip().split('\\n\\n')\n",
    "else:\n",
    "    content = \"\"\"\n",
    "class: 0-1 or 4-19\n",
    "row: 0-5 or 8-19\n",
    "seat: 0-13 or 16-19\n",
    "\n",
    "your ticket:\n",
    "11,12,13\n",
    "\n",
    "nearby tickets:\n",
    "3,9,18\n",
    "15,1,5\n",
    "5,14,9\n",
    "\"\"\".strip().split('\\n\\n')"
   ]
  },
  {
   "cell_type": "code",
   "execution_count": 3,
   "metadata": {},
   "outputs": [],
   "source": [
    "rules_texts = content[0].split('\\n')\n",
    "your_ticket = [int(x) for x in content[1].split('\\n')[1].split(',')]\n",
    "nearby_tickets = [[int(x) for x in ticket.split(',')] for ticket in content[2].split('\\n')[1:]]"
   ]
  },
  {
   "cell_type": "code",
   "execution_count": 4,
   "metadata": {},
   "outputs": [],
   "source": [
    "rules = {}\n",
    "for rule in rules_texts:\n",
    "    rule_split = rule.split(':')\n",
    "    rule_name = rule_split[0]\n",
    "    \n",
    "    parts = [x.strip() for x in rule_split[1].split('or')]\n",
    "    parts = [{'min':int(x.split('-')[0]), 'max':int(x.split('-')[1])} for x in parts]\n",
    "    \n",
    "    rules[rule_name] = parts"
   ]
  },
  {
   "cell_type": "code",
   "execution_count": 5,
   "metadata": {},
   "outputs": [],
   "source": [
    "def passes_rule(rule, value):\n",
    "    for internal_rule in rule:\n",
    "        if internal_rule['min'] <= value and value <= internal_rule['max']:\n",
    "            return True\n",
    "    return False\n",
    "\n",
    "def get_wrong_tickets(nearby_tickets, rules):\n",
    "    all_rules = [item for sublist in rules.values() for item in sublist]\n",
    "    scanning_errors = []\n",
    "\n",
    "    for i, ticket in enumerate(nearby_tickets):\n",
    "        for ticket_value in ticket:  \n",
    "            valid = False\n",
    "            for rule in rules:\n",
    "                if passes_rule(rules[rule], ticket_value):\n",
    "                    valid = True\n",
    "                    break\n",
    "            if not valid:\n",
    "                scanning_errors.append([i, ticket_value])\n",
    "    return scanning_errors"
   ]
  },
  {
   "cell_type": "code",
   "execution_count": 6,
   "metadata": {},
   "outputs": [
    {
     "data": {
      "text/plain": [
       "25916"
      ]
     },
     "execution_count": 6,
     "metadata": {},
     "output_type": "execute_result"
    }
   ],
   "source": [
    "wrong_tickets = get_wrong_tickets(nearby_tickets, rules)\n",
    "wrong_ticket_indexes = set([x[0] for x in wrong_tickets])\n",
    "sum([x[1] for x in wrong_tickets])"
   ]
  },
  {
   "cell_type": "code",
   "execution_count": 7,
   "metadata": {},
   "outputs": [],
   "source": [
    "valid_tickets = [nearby_tickets[i] for i in range(len(nearby_tickets)) if i not in wrong_ticket_indexes]"
   ]
  },
  {
   "cell_type": "code",
   "execution_count": 8,
   "metadata": {},
   "outputs": [],
   "source": [
    "def get_possible_rule_indexes(rules, valid_tickets):\n",
    "    rule_indexes = {rule_name:[] for rule_name in rules}\n",
    "    for rule_name in rules:\n",
    "        for column in range(len(rules)):\n",
    "            all_tickets_passed = True\n",
    "\n",
    "            for ticket in valid_tickets:\n",
    "                if not passes_rule(rules[rule_name], ticket[column]):\n",
    "                    all_tickets_passed = False\n",
    "                    break\n",
    "\n",
    "            if all_tickets_passed:\n",
    "                rule_indexes[rule_name].append(column)\n",
    "    return rule_indexes"
   ]
  },
  {
   "cell_type": "code",
   "execution_count": 9,
   "metadata": {},
   "outputs": [],
   "source": [
    "def disambiguate_rules(rule_indexes):\n",
    "    ordered_rules = [(x, set(y)) for x, y in sorted(rule_indexes.items(), key=lambda x: len(x[1]))]\n",
    "\n",
    "    rules_index_map = {ordered_rules[0][0]:ordered_rules[0][1]}\n",
    "    for i in range(1, len(ordered_rules)):\n",
    "        rules_index_map[ordered_rules[i][0]] = ordered_rules[i][1] - ordered_rules[i-1][1]\n",
    "    return {key:list(value)[0] for key, value in rules_index_map.items()}"
   ]
  },
  {
   "cell_type": "code",
   "execution_count": 10,
   "metadata": {},
   "outputs": [
    {
     "data": {
      "text/plain": [
       "2564529489989"
      ]
     },
     "execution_count": 10,
     "metadata": {},
     "output_type": "execute_result"
    }
   ],
   "source": [
    "rule_indexes = get_possible_rule_indexes(rules, valid_tickets)\n",
    "rules_sets = disambiguate_rules(rule_indexes)\n",
    "\n",
    "result = 1\n",
    "for x in [x for x in rules_sets if x.startswith(search_word)]:\n",
    "    result = result * your_ticket[rules_sets[x]]\n",
    "result"
   ]
  },
  {
   "cell_type": "code",
   "execution_count": null,
   "metadata": {},
   "outputs": [],
   "source": []
  }
 ],
 "metadata": {
  "kernelspec": {
   "display_name": "Python 3",
   "language": "python",
   "name": "python3"
  },
  "language_info": {
   "codemirror_mode": {
    "name": "ipython",
    "version": 3
   },
   "file_extension": ".py",
   "mimetype": "text/x-python",
   "name": "python",
   "nbconvert_exporter": "python",
   "pygments_lexer": "ipython3",
   "version": "3.8.5"
  }
 },
 "nbformat": 4,
 "nbformat_minor": 4
}
