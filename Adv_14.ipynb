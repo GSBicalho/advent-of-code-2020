{
 "cells": [
  {
   "cell_type": "code",
   "execution_count": 1,
   "metadata": {},
   "outputs": [],
   "source": [
    "input_file = \"inputs/aoc_input_14.txt\"\n",
    "mask_size = 36"
   ]
  },
  {
   "cell_type": "code",
   "execution_count": 2,
   "metadata": {},
   "outputs": [],
   "source": [
    "from itertools import combinations\n",
    "\n",
    "with open(input_file) as f:\n",
    "    content = f.readlines()\n",
    "content = [x.strip() for x in content]"
   ]
  },
  {
   "cell_type": "code",
   "execution_count": 3,
   "metadata": {},
   "outputs": [],
   "source": [
    "def apply_mask_ex1(mask, number, max_size):\n",
    "    as_binary = list(\"{0:b}\".format(number).zfill(max_size))\n",
    "    for i in mask:\n",
    "        as_binary[i] = mask[i]\n",
    "    return int(''.join(as_binary), 2)"
   ]
  },
  {
   "cell_type": "code",
   "execution_count": 4,
   "metadata": {},
   "outputs": [],
   "source": [
    "addresses = {}\n",
    "for line in content:\n",
    "    if line.split()[0] == 'mask':\n",
    "        mask = line.split()[2]\n",
    "        mask = {i:mask[i] for i in range(len(mask)) if mask[i] != 'X'}\n",
    "    else:\n",
    "        _, address, _, value = line.replace('[',' ').replace(']',' ').split()\n",
    "        addresses[address] = apply_mask_ex1(mask, int(value), mask_size)"
   ]
  },
  {
   "cell_type": "code",
   "execution_count": 5,
   "metadata": {},
   "outputs": [
    {
     "data": {
      "text/plain": [
       "5902420735773"
      ]
     },
     "execution_count": 5,
     "metadata": {},
     "output_type": "execute_result"
    }
   ],
   "source": [
    "sum(addresses.values())"
   ]
  },
  {
   "cell_type": "code",
   "execution_count": 6,
   "metadata": {},
   "outputs": [],
   "source": [
    "# If the bitmask bit is 0, the corresponding memory address bit is unchanged.\n",
    "# If the bitmask bit is 1, the corresponding memory address bit is overwritten with 1.\n",
    "# If the bitmask bit is X, the corresponding memory address bit is floating.\n",
    "\n",
    "def apply_mask_ex2(mask, number, max_size):\n",
    "    as_binary = list(\"{0:b}\".format(number).zfill(max_size))\n",
    "    for i in mask['ones']:\n",
    "        as_binary[i] = '1'\n",
    "    \n",
    "    values = []\n",
    "    \n",
    "    x_possibilities = [set([])]\n",
    "    for i in range(len(mask['exes'])):\n",
    "        x_possibilities += [set(x) for x in combinations(mask['exes'], i+1)]\n",
    "    \n",
    "    if len(x_possibilities) == 0:\n",
    "        return [int(''.join(as_binary), 2)]\n",
    "    \n",
    "    full_set = set(mask['exes'])\n",
    "    for possibility in x_possibilities:\n",
    "        current_value = as_binary[:]\n",
    "        for i in possibility:\n",
    "            current_value[i] = '0'\n",
    "        for i in full_set - possibility:\n",
    "            current_value[i] = '1'\n",
    "        values.append(int(''.join(current_value), 2))\n",
    "    \n",
    "    return values"
   ]
  },
  {
   "cell_type": "code",
   "execution_count": 7,
   "metadata": {},
   "outputs": [],
   "source": [
    "addresses = {}\n",
    "for line in content:\n",
    "    if line.split()[0] == 'mask':\n",
    "        mask = line.split()[2]\n",
    "        mask = {'ones':   [i for i in range(len(mask)) if mask[i] == '1'],\n",
    "                'zeroes': [i for i in range(len(mask)) if mask[i] == '0'],\n",
    "                'exes':   [i for i in range(len(mask)) if mask[i] == 'X']}\n",
    "    else:\n",
    "        _, address, _, value = line.replace('[',' ').replace(']',' ').split()\n",
    "        value = int(value)\n",
    "        addresses_to_change = apply_mask_ex2(mask, int(address), mask_size)\n",
    "        for address in addresses_to_change:\n",
    "            addresses[address] = value"
   ]
  },
  {
   "cell_type": "code",
   "execution_count": 8,
   "metadata": {},
   "outputs": [
    {
     "data": {
      "text/plain": [
       "3801988250775"
      ]
     },
     "execution_count": 8,
     "metadata": {},
     "output_type": "execute_result"
    }
   ],
   "source": [
    "sum(addresses.values())"
   ]
  },
  {
   "cell_type": "code",
   "execution_count": null,
   "metadata": {},
   "outputs": [],
   "source": []
  }
 ],
 "metadata": {
  "kernelspec": {
   "display_name": "Python 3",
   "language": "python",
   "name": "python3"
  },
  "language_info": {
   "codemirror_mode": {
    "name": "ipython",
    "version": 3
   },
   "file_extension": ".py",
   "mimetype": "text/x-python",
   "name": "python",
   "nbconvert_exporter": "python",
   "pygments_lexer": "ipython3",
   "version": "3.8.5"
  }
 },
 "nbformat": 4,
 "nbformat_minor": 4
}
