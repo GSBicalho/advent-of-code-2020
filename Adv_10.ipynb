{
 "cells": [
  {
   "cell_type": "code",
   "execution_count": 1,
   "metadata": {},
   "outputs": [],
   "source": [
    "input_file = \"inputs/aoc_input_10.txt\"\n",
    "max_difference = 3"
   ]
  },
  {
   "cell_type": "code",
   "execution_count": 2,
   "metadata": {},
   "outputs": [],
   "source": [
    "with open(input_file) as f:\n",
    "    content = f.readlines()\n",
    "content = [int(x.strip()) for x in content]"
   ]
  },
  {
   "cell_type": "code",
   "execution_count": 3,
   "metadata": {},
   "outputs": [],
   "source": [
    "l = sorted(content)\n",
    "l = [0] + l + [l[-1] + 3]\n",
    "differences_map = {i:0 for i in range(10)}\n",
    "differences = []\n",
    "\n",
    "\n",
    "for i in range(len(l) - 1):\n",
    "    differences_map[l[i+1] - l[i]] += 1\n",
    "    differences += [l[i+1] - l[i]]"
   ]
  },
  {
   "cell_type": "code",
   "execution_count": 4,
   "metadata": {},
   "outputs": [
    {
     "data": {
      "text/plain": [
       "2030"
      ]
     },
     "execution_count": 4,
     "metadata": {},
     "output_type": "execute_result"
    }
   ],
   "source": [
    "differences_map[1] * differences_map[3]"
   ]
  },
  {
   "cell_type": "code",
   "execution_count": 5,
   "metadata": {},
   "outputs": [],
   "source": [
    "# one day I shall return (probably not) and do this in a non-hardcoded way\n",
    "# but that is not this day\n",
    "\n",
    "def ones_to_multiplier(n):\n",
    "    return \\\n",
    "    {0: 1, \n",
    "     1: 1, \n",
    "     2: 2,\n",
    "     3: 4,\n",
    "     4: 7,\n",
    "     5: 11,\n",
    "     6: 21}[n]\n",
    "    "
   ]
  },
  {
   "cell_type": "code",
   "execution_count": 6,
   "metadata": {},
   "outputs": [],
   "source": [
    "total = 1\n",
    "for num in [len(x) for x in ''.join([str(x) for x in differences]).split('3')]:\n",
    "    total = total * ones_to_multiplier(num)"
   ]
  },
  {
   "cell_type": "code",
   "execution_count": 7,
   "metadata": {},
   "outputs": [
    {
     "data": {
      "text/plain": [
       "42313823813632"
      ]
     },
     "execution_count": 7,
     "metadata": {},
     "output_type": "execute_result"
    }
   ],
   "source": [
    "total"
   ]
  },
  {
   "cell_type": "code",
   "execution_count": null,
   "metadata": {},
   "outputs": [],
   "source": []
  }
 ],
 "metadata": {
  "kernelspec": {
   "display_name": "Python 3",
   "language": "python",
   "name": "python3"
  },
  "language_info": {
   "codemirror_mode": {
    "name": "ipython",
    "version": 3
   },
   "file_extension": ".py",
   "mimetype": "text/x-python",
   "name": "python",
   "nbconvert_exporter": "python",
   "pygments_lexer": "ipython3",
   "version": "3.8.5"
  }
 },
 "nbformat": 4,
 "nbformat_minor": 4
}
