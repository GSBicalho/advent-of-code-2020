{
 "cells": [
  {
   "cell_type": "code",
   "execution_count": 1,
   "metadata": {},
   "outputs": [],
   "source": [
    "input_file = \"inputs/aoc_input_3.txt\"\n",
    "TREE = '#'\n",
    "FREE = '.'\n",
    "starting_position = [0,0]"
   ]
  },
  {
   "cell_type": "code",
   "execution_count": 2,
   "metadata": {},
   "outputs": [],
   "source": [
    "with open(input_file) as f:\n",
    "    content = f.readlines()\n",
    "content = [x.strip() for x in content]\n",
    "\n",
    "def translate_location(x, n):\n",
    "    return x % n\n",
    "    \n",
    "def process_matrix_ex1(m, move):\n",
    "    height = len(m)\n",
    "    width = len(m[0])\n",
    "\n",
    "    pos = [x for x in starting_position]\n",
    "    trees_found = 0\n",
    "    for i in range(height):\n",
    "        pos[0] += move[0]\n",
    "        pos[1] += move[1]\n",
    "#         print(pos)\n",
    "#         print(pos[1], translate_location(pos[0], width))\n",
    "        \n",
    "        if pos[1] > height-1:\n",
    "            break\n",
    "        \n",
    "        if m[pos[1]][translate_location(pos[0], width)] == TREE:\n",
    "            trees_found += 1\n",
    "    return trees_found\n",
    "\n",
    "def process_matrix_ex2(m, moves):\n",
    "    r = 1\n",
    "    for move in moves:\n",
    "        r = r * process_matrix_ex1(m, move)\n",
    "    return r"
   ]
  },
  {
   "cell_type": "code",
   "execution_count": 3,
   "metadata": {},
   "outputs": [
    {
     "name": "stdout",
     "output_type": "stream",
     "text": [
      "162\n"
     ]
    }
   ],
   "source": [
    "print(process_matrix_ex1(content, [3, 1]))"
   ]
  },
  {
   "cell_type": "code",
   "execution_count": 4,
   "metadata": {},
   "outputs": [
    {
     "name": "stdout",
     "output_type": "stream",
     "text": [
      "3064612320\n"
     ]
    }
   ],
   "source": [
    "print(process_matrix_ex2(content, [[1,1],[3,1],[5,1],[7,1],[1,2]]))"
   ]
  },
  {
   "cell_type": "code",
   "execution_count": null,
   "metadata": {},
   "outputs": [],
   "source": []
  }
 ],
 "metadata": {
  "kernelspec": {
   "display_name": "Python 3",
   "language": "python",
   "name": "python3"
  },
  "language_info": {
   "codemirror_mode": {
    "name": "ipython",
    "version": 3
   },
   "file_extension": ".py",
   "mimetype": "text/x-python",
   "name": "python",
   "nbconvert_exporter": "python",
   "pygments_lexer": "ipython3",
   "version": "3.8.5"
  }
 },
 "nbformat": 4,
 "nbformat_minor": 4
}
