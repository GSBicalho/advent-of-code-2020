{
 "cells": [
  {
   "cell_type": "code",
   "execution_count": 1,
   "metadata": {},
   "outputs": [],
   "source": [
    "from pprint import pprint\n",
    "import itertools\n",
    "import re\n",
    "\n",
    "input_file = \"inputs/aoc_input_19.txt\"\n",
    "desired_rule = 0"
   ]
  },
  {
   "cell_type": "code",
   "execution_count": 2,
   "metadata": {},
   "outputs": [],
   "source": [
    "if True:\n",
    "    with open(input_file) as f:\n",
    "        content = f.read()\n",
    "else:\n",
    "    content = '''\n",
    "42: 9 14 | 10 1\n",
    "9: 14 27 | 1 26\n",
    "10: 23 14 | 28 1\n",
    "1: \"a\"\n",
    "11: 42 31\n",
    "5: 1 14 | 15 1\n",
    "19: 14 1 | 14 14\n",
    "12: 24 14 | 19 1\n",
    "16: 15 1 | 14 14\n",
    "31: 14 17 | 1 13\n",
    "6: 14 14 | 1 14\n",
    "2: 1 24 | 14 4\n",
    "0: 8 11\n",
    "13: 14 3 | 1 12\n",
    "15: 1 | 14\n",
    "17: 14 2 | 1 7\n",
    "23: 25 1 | 22 14\n",
    "28: 16 1\n",
    "4: 1 1\n",
    "20: 14 14 | 1 15\n",
    "3: 5 14 | 16 1\n",
    "27: 1 6 | 14 18\n",
    "14: \"b\"\n",
    "21: 14 1 | 1 14\n",
    "25: 1 1 | 1 14\n",
    "22: 14 14\n",
    "8: 42\n",
    "26: 14 22 | 1 20\n",
    "18: 15 15\n",
    "7: 14 5 | 1 21\n",
    "24: 14 1\n",
    "\n",
    "abbbbbabbbaaaababbaabbbbabababbbabbbbbbabaaaa\n",
    "bbabbbbaabaabba\n",
    "babbbbaabbbbbabbbbbbaabaaabaaa\n",
    "aaabbbbbbaaaabaababaabababbabaaabbababababaaa\n",
    "bbbbbbbaaaabbbbaaabbabaaa\n",
    "bbbababbbbaaaaaaaabbababaaababaabab\n",
    "ababaaaaaabaaab\n",
    "ababaaaaabbbaba\n",
    "baabbaaaabbaaaababbaababb\n",
    "abbbbabbbbaaaababbbbbbaaaababb\n",
    "aaaaabbaabaaaaababaa\n",
    "aaaabbaaaabbaaa\n",
    "aaaabbaabbaaaaaaabbbabbbaaabbaabaaa\n",
    "babaaabbbaaabaababbaabababaaab\n",
    "aabbbbbaabbbaaaaaabbbbbababaaaaabbaaabba\n",
    "'''\n",
    "content = content.strip()\n",
    "rules, messages = [x.strip().split('\\n') for x in content.split('\\n\\n')]"
   ]
  },
  {
   "cell_type": "code",
   "execution_count": 3,
   "metadata": {},
   "outputs": [],
   "source": [
    "def int_or_none(n):\n",
    "    try:\n",
    "        return int(n)\n",
    "    except:\n",
    "        return None\n",
    "    \n",
    "\n",
    "def generate_rules(rules):\n",
    "    rule_map = {}\n",
    "    referenced_rules = {}\n",
    "    for rule in rules:\n",
    "        rule_number, rule_text = rule.split(':')\n",
    "        rule_number = int(rule_number)\n",
    "\n",
    "        rule_map[rule_number] = rule_text.strip().split()\n",
    "\n",
    "        rule_text_split = [int(x) for x in rule_text.split() if int_or_none(x)]\n",
    "        referenced_rules[rule_number] = set(rule_text_split)\n",
    "\n",
    "    rule_processing_order = []\n",
    "    while len(rule_processing_order) != len(rules):\n",
    "        zero_reference_rules = [[key, value] for key, value in referenced_rules.items() if len(value) == 0 and key not in rule_processing_order]\n",
    "        zero_reference_rules_indexes = [x for x,_ in zero_reference_rules]\n",
    "        rule_processing_order = rule_processing_order + zero_reference_rules_indexes\n",
    "\n",
    "        for x in referenced_rules:\n",
    "            referenced_rules[x] = referenced_rules[x] - set(zero_reference_rules_indexes)\n",
    "\n",
    "    rule_index_set = set([str(x) for x in rule_processing_order])\n",
    "\n",
    "    for rule_index in rule_processing_order:\n",
    "        rule_content = rule_map[rule_index]\n",
    "        for i in range(len(rule_content)):\n",
    "            if rule_content[i] in rule_index_set:\n",
    "                if len(rule_map[int(rule_content[i])]) == 1:\n",
    "                    rule_content[i] = rule_map[int(rule_content[i])]\n",
    "                else:\n",
    "                    rule_content[i] = '(' + rule_map[int(rule_content[i])] + ')'\n",
    "            rule_content[i] = rule_content[i].replace('\"', '')\n",
    "\n",
    "        rule_map[rule_index] = ''.join(rule_content)\n",
    "        \n",
    "    return rule_map"
   ]
  },
  {
   "cell_type": "code",
   "execution_count": 4,
   "metadata": {},
   "outputs": [
    {
     "data": {
      "text/plain": [
       "124"
      ]
     },
     "execution_count": 4,
     "metadata": {},
     "output_type": "execute_result"
    }
   ],
   "source": [
    "rule_map = generate_rules(rules)\n",
    "final_rule = '^(' + rule_map[desired_rule] + ')$'\n",
    "\n",
    "len([message for message in messages if len(re.findall(final_rule, message))])"
   ]
  },
  {
   "cell_type": "code",
   "execution_count": 5,
   "metadata": {},
   "outputs": [
    {
     "data": {
      "text/plain": [
       "228"
      ]
     },
     "execution_count": 5,
     "metadata": {},
     "output_type": "execute_result"
    }
   ],
   "source": [
    "new_rules = rules[:]\n",
    "\n",
    "new_rules[[x for x,y in enumerate(rules) if y.startswith('8:')][0]] = '8: 42 +'\n",
    "\n",
    "# Given that regex is a state machine, it is unable to calculate `11: 42 31 | 42 11 31` for an infinite number of recursions.\n",
    "# So I just hardcoded an X amount, and stopped increasing it whenever the numbers stopped changing\n",
    "max_recurs = 5\n",
    "new_rules[[x for x,y in enumerate(rules) if y.startswith('11:')][0]] = '11: ' + ' | '.join([' '.join(['42']*n + ['31']*n) for n in range(1, max_recurs+1)])\n",
    "\n",
    "rule_map = generate_rules(new_rules)\n",
    "final_rule = '^(' + rule_map[desired_rule] + ')$'\n",
    "\n",
    "len([message for message in messages if len(re.findall(final_rule, message))])"
   ]
  },
  {
   "cell_type": "code",
   "execution_count": null,
   "metadata": {},
   "outputs": [],
   "source": []
  }
 ],
 "metadata": {
  "kernelspec": {
   "display_name": "Python 3",
   "language": "python",
   "name": "python3"
  },
  "language_info": {
   "codemirror_mode": {
    "name": "ipython",
    "version": 3
   },
   "file_extension": ".py",
   "mimetype": "text/x-python",
   "name": "python",
   "nbconvert_exporter": "python",
   "pygments_lexer": "ipython3",
   "version": "3.8.5"
  }
 },
 "nbformat": 4,
 "nbformat_minor": 4
}
