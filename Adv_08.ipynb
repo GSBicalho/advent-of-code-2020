{
 "cells": [
  {
   "cell_type": "code",
   "execution_count": 1,
   "metadata": {},
   "outputs": [],
   "source": [
    "input_file = \"inputs/aoc_input_8.txt\""
   ]
  },
  {
   "cell_type": "code",
   "execution_count": 2,
   "metadata": {},
   "outputs": [
    {
     "name": "stdout",
     "output_type": "stream",
     "text": [
      "(False, 374, 1941)\n"
     ]
    }
   ],
   "source": [
    "with open(input_file) as f:\n",
    "    content = f.readlines()\n",
    "content = [x.strip() for x in content]\n",
    "instructions = content\n",
    "\n",
    "def parse_instructions(instruction_text):\n",
    "    instruction, value = instruction_text.split()\n",
    "    value = int(value)\n",
    "    return instruction, value\n",
    "\n",
    "def run_or_find_loop(instructions):\n",
    "    accumulator = 0\n",
    "    previous_instruction = 0\n",
    "    current_instruction = 0\n",
    "    visited_instructions = set()\n",
    "\n",
    "    while current_instruction not in visited_instructions and current_instruction != len(instructions):\n",
    "        visited_instructions.add(current_instruction)\n",
    "        previous_instruction = current_instruction\n",
    "\n",
    "        instruction, value = parse_instructions(instructions[current_instruction])\n",
    "\n",
    "        if instruction == 'jmp':\n",
    "            current_instruction += value\n",
    "        elif instruction == 'acc':\n",
    "            accumulator += value\n",
    "            current_instruction += 1\n",
    "        elif instruction == 'nop':\n",
    "            current_instruction += 1\n",
    "            \n",
    "        \n",
    "    \n",
    "    finished = current_instruction == len(instructions)\n",
    "    return finished, previous_instruction, accumulator\n",
    "\n",
    "print(run_or_find_loop(content))"
   ]
  },
  {
   "cell_type": "code",
   "execution_count": 3,
   "metadata": {},
   "outputs": [
    {
     "name": "stdout",
     "output_type": "stream",
     "text": [
      "2096\n"
     ]
    }
   ],
   "source": [
    "def fix_code(instructions):\n",
    "    replace_map = {'jmp':'nop', 'nop':'jmp'}\n",
    "    \n",
    "    for i in range(len(instructions)):\n",
    "        instruction, value = parse_instructions(instructions[i])\n",
    "        \n",
    "        if instruction in replace_map:\n",
    "            new_instructions = instructions[:i] + [replace_map[instruction] + ' ' + str(value)] + instructions[i+1:]\n",
    "            success, _, acc = run_or_find_loop(new_instructions)\n",
    "            if success:\n",
    "                return acc\n",
    "                \n",
    "print(fix_code(content))"
   ]
  },
  {
   "cell_type": "code",
   "execution_count": null,
   "metadata": {},
   "outputs": [],
   "source": []
  }
 ],
 "metadata": {
  "kernelspec": {
   "display_name": "Python 3",
   "language": "python",
   "name": "python3"
  },
  "language_info": {
   "codemirror_mode": {
    "name": "ipython",
    "version": 3
   },
   "file_extension": ".py",
   "mimetype": "text/x-python",
   "name": "python",
   "nbconvert_exporter": "python",
   "pygments_lexer": "ipython3",
   "version": "3.8.5"
  }
 },
 "nbformat": 4,
 "nbformat_minor": 4
}
