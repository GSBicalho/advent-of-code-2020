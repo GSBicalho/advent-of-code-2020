{
 "cells": [
  {
   "cell_type": "code",
   "execution_count": 1,
   "metadata": {},
   "outputs": [],
   "source": [
    "input_file = \"inputs/aoc_input_11.txt\"\n",
    "free_seat = 'L'\n",
    "floor = '.'\n",
    "occupied_seat = '#'"
   ]
  },
  {
   "cell_type": "code",
   "execution_count": 2,
   "metadata": {},
   "outputs": [],
   "source": [
    "with open(input_file) as f:\n",
    "    content = f.readlines()\n",
    "content = [x.strip() for x in content]\n",
    "    \n",
    "def create_matrix(n, m):\n",
    "    return [[0 for j in range(m)] for i in range(n)] \n",
    "\n",
    "def get_immediate_surroundings(m, x, y):\n",
    "    surroundings = []\n",
    "    for delta_x in range(-1,2,1):\n",
    "        for delta_y in range(-1,2,1):\n",
    "            new_x = x + delta_x\n",
    "            new_y = y + delta_y\n",
    "            within_bounds = new_x < len(m[0]) and new_y < len(m)\n",
    "            within_bounds = within_bounds and new_x >= 0 and new_y >= 0\n",
    "            within_bounds = within_bounds and not (delta_x == 0 and delta_y == 0)\n",
    "            if within_bounds:\n",
    "                surroundings.append(m[new_y][new_x])\n",
    "    return surroundings\n",
    "\n",
    "# If a seat is empty (L) and there are no occupied seats adjacent to it, the seat becomes occupied.\n",
    "# If a seat is occupied (#) and four or more seats adjacent to it are also occupied, the seat becomes empty.\n",
    "# Otherwise, the seat's state does not change.\n",
    "\n",
    "def do_step(m, threshold, surrounding_function):\n",
    "    new_state = create_matrix(len(content),len(content[0]))\n",
    "    width = len(content[0])\n",
    "    height = len(content)\n",
    "    \n",
    "    for y in range(height):\n",
    "        for x in range(width):\n",
    "            seat_state = m[y][x]\n",
    "            surroundings = surrounding_function(m, x, y)\n",
    "            occupied_seats_around = len([x for x in surroundings if x == occupied_seat])\n",
    "            \n",
    "            if(seat_state == free_seat and occupied_seats_around == 0):\n",
    "                new_seat = occupied_seat\n",
    "            elif seat_state == occupied_seat and occupied_seats_around >= threshold:\n",
    "                new_seat = free_seat\n",
    "            elif seat_state == floor:\n",
    "                new_seat = floor\n",
    "            else:\n",
    "                new_seat = seat_state\n",
    "                \n",
    "            new_state[y][x] = new_seat\n",
    "    return new_state\n",
    "\n",
    "def match_matrixes(m1, m2):\n",
    "    for i in range(len(m1)):\n",
    "        for j in range(len(m1[0])):\n",
    "            if m1[i][j] != m2[i][j]:\n",
    "                return False\n",
    "    return True\n",
    "\n",
    "def run_simulation(initial_state, threshold, surrounding_function):\n",
    "    current_step = initial_state\n",
    "    next_step = do_step(content, threshold, surrounding_function)\n",
    "\n",
    "    while not match_matrixes(current_step, next_step):\n",
    "        current_step = next_step\n",
    "        next_step = do_step(current_step, threshold, surrounding_function)\n",
    "    \n",
    "    return next_step"
   ]
  },
  {
   "cell_type": "code",
   "execution_count": 3,
   "metadata": {},
   "outputs": [
    {
     "data": {
      "text/plain": [
       "2476"
      ]
     },
     "execution_count": 3,
     "metadata": {},
     "output_type": "execute_result"
    }
   ],
   "source": [
    "result = run_simulation(content, 4, get_immediate_surroundings)\n",
    "\n",
    "sum(len([x for x in line if x == occupied_seat]) for line in result)"
   ]
  },
  {
   "cell_type": "code",
   "execution_count": 4,
   "metadata": {},
   "outputs": [],
   "source": [
    "def get_visible_surroundings(m, x, y):\n",
    "    surroundings = []\n",
    "    for delta_x in range(-1,2,1):\n",
    "        for delta_y in range(-1,2,1):\n",
    "            old_x = x\n",
    "            old_y = y\n",
    "            \n",
    "            while True:\n",
    "                new_x = old_x + delta_x\n",
    "                new_y = old_y + delta_y    \n",
    "                \n",
    "                within_bounds = new_x < len(m[0]) and new_y < len(m)\n",
    "                within_bounds = within_bounds and new_x >= 0 and new_y >= 0\n",
    "                within_bounds = within_bounds and not (delta_x == 0 and delta_y == 0)\n",
    "                \n",
    "                if within_bounds:\n",
    "                    if m[new_y][new_x] != floor:\n",
    "                        surroundings.append(m[new_y][new_x])\n",
    "                        break\n",
    "                else:\n",
    "                    break\n",
    "                    \n",
    "                old_x = new_x\n",
    "                old_y = new_y\n",
    "    return surroundings"
   ]
  },
  {
   "cell_type": "code",
   "execution_count": 5,
   "metadata": {},
   "outputs": [
    {
     "data": {
      "text/plain": [
       "2257"
      ]
     },
     "execution_count": 5,
     "metadata": {},
     "output_type": "execute_result"
    }
   ],
   "source": [
    "result = run_simulation(content, 5, get_visible_surroundings)\n",
    "\n",
    "sum(len([x for x in line if x == occupied_seat]) for line in result)"
   ]
  },
  {
   "cell_type": "code",
   "execution_count": null,
   "metadata": {},
   "outputs": [],
   "source": []
  }
 ],
 "metadata": {
  "kernelspec": {
   "display_name": "Python 3",
   "language": "python",
   "name": "python3"
  },
  "language_info": {
   "codemirror_mode": {
    "name": "ipython",
    "version": 3
   },
   "file_extension": ".py",
   "mimetype": "text/x-python",
   "name": "python",
   "nbconvert_exporter": "python",
   "pygments_lexer": "ipython3",
   "version": "3.8.5"
  }
 },
 "nbformat": 4,
 "nbformat_minor": 4
}
